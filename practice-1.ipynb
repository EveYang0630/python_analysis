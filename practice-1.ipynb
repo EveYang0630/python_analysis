{
 "cells": [
  {
   "cell_type": "markdown",
   "metadata": {},
   "source": [
    "### **必學小工具**\n",
    "_**輸入特殊字元**_\n",
    "\n",
    "跳脫字元：\\  \n",
    "換行1：\"字串\\n字串\"  \n",
    "換行2：空兩格，如：\"字串__字串\"\n",
    "\n",
    "**_cmd的操控指令_**\n",
    "\n",
    "強制結束：ctl+c  \n",
    "清除終端機內容：cls"
   ]
  },
  {
   "cell_type": "markdown",
   "metadata": {},
   "source": [
    "### **print()、input() 與 資料型態**"
   ]
  },
  {
   "cell_type": "code",
   "execution_count": 1,
   "metadata": {},
   "outputs": [
    {
     "name": "stdout",
     "output_type": "stream",
     "text": [
      "apple Orange banana\n",
      "apple、Orange、banana\n",
      "appleOrangebanana\n",
      "Orangebanana\n"
     ]
    },
    {
     "data": {
      "text/plain": [
       "'Hello~Hello~Hello~有人嗎?'"
      ]
     },
     "execution_count": 1,
     "metadata": {},
     "output_type": "execute_result"
    }
   ],
   "source": [
    "A1='apple'\n",
    "A2,A3='Orange','banana'\n",
    "#print的基本運用\n",
    "print(A1,A2,A3)\n",
    "print(A1,A2,A3,sep=\"、\")\n",
    "print(A1+A2+A3)\n",
    "print('Orange' 'banana') #用空格串接字串，效果同\"+\"，但此處放變數會error喔\n",
    "\"Hello~\"*3+\"有人嗎?\""
   ]
  },
  {
   "cell_type": "code",
   "execution_count": 2,
   "metadata": {},
   "outputs": [
    {
     "name": "stdout",
     "output_type": "stream",
     "text": [
      "True\n",
      "False\n",
      "Hell\n"
     ]
    }
   ],
   "source": [
    "a=\"Hello\"\n",
    "print(\"l\" in a)\n",
    "print(\"b\" in a)\n",
    "print(a[0:4])"
   ]
  },
  {
   "cell_type": "code",
   "execution_count": 6,
   "metadata": {},
   "outputs": [
    {
     "name": "stdout",
     "output_type": "stream",
     "text": [
      "140718771864616\n",
      "140718771865096\n",
      "2574565304976\n"
     ]
    }
   ],
   "source": [
    "#同樣的變數名稱，變換為不同的參考，ID也會變更\n",
    "a=5\n",
    "print(id(a))\n",
    "a=20\n",
    "print(id(a))\n",
    "a=\"test\"\n",
    "print(id(a))"
   ]
  },
  {
   "cell_type": "code",
   "execution_count": 5,
   "metadata": {},
   "outputs": [
    {
     "name": "stdout",
     "output_type": "stream",
     "text": [
      "25\n",
      "9\n"
     ]
    }
   ],
   "source": [
    "#input輸出的型態為字串，使用時要注意資料型態\n",
    "a = input(\"輸入整數1a: \")\n",
    "b = input(\"輸入整數1b: \")\n",
    "c = int(input(\"int輸入c:\"))\n",
    "d = int(input(\"int輸入d:\"))\n",
    "f=a+b\n",
    "g=c+d\n",
    "print(f)\n",
    "print(g)"
   ]
  },
  {
   "cell_type": "code",
   "execution_count": 4,
   "metadata": {},
   "outputs": [
    {
     "name": "stdout",
     "output_type": "stream",
     "text": [
      "7\n",
      "12.0\n"
     ]
    }
   ],
   "source": [
    "c = int(input(\"int輸入c:\"))\n",
    "d = int(input(\"int輸入d:\"))\n",
    "g=c+d\n",
    "print(g)\n",
    "h = float(input(\"float輸入h:\"))\n",
    "i = float(input(\"float輸入i:\"))\n",
    "j=h+d  #整數與浮點數相加為浮點數\n",
    "print(j)"
   ]
  },
  {
   "cell_type": "code",
   "execution_count": 3,
   "metadata": {},
   "outputs": [
    {
     "name": "stdout",
     "output_type": "stream",
     "text": [
      "55 <class 'int'>\n",
      "<class 'int'>\n"
     ]
    },
    {
     "data": {
      "text/plain": [
       "int"
      ]
     },
     "execution_count": 3,
     "metadata": {},
     "output_type": "execute_result"
    }
   ],
   "source": [
    "a = int(input(\"輸入字串: \"))\n",
    "print(a,a.__class__)  # <變數.__class__> 和 <type(變數)> 可回傳資料型態\n",
    "b=type(a)\n",
    "print(b)\n",
    "type(a)"
   ]
  },
  {
   "cell_type": "markdown",
   "metadata": {},
   "source": [
    "### **list、tauple、set、dic 與微加碼 for in**"
   ]
  },
  {
   "cell_type": "code",
   "execution_count": 7,
   "metadata": {},
   "outputs": [
    {
     "name": "stdout",
     "output_type": "stream",
     "text": [
      "[12, 60, 15, 70, 90]\n",
      "12\n",
      "[55, 60, 15, 70, 90]\n",
      "[55, 90]\n"
     ]
    }
   ],
   "source": [
    "# 有序可變動的列表(List)\n",
    "\n",
    "grades=[12,60,15,70,90]\n",
    "print(grades)\n",
    "print(grades[0]) # 索引的基本運用\n",
    "grades[0]=55 # 更新列表內容\n",
    "print(grades)\n",
    "grades[1:4]=[] # 特地連續刪除從編號1到編號4(4不包括)之前的資料\n",
    "print(grades)"
   ]
  },
  {
   "cell_type": "code",
   "execution_count": null,
   "metadata": {},
   "outputs": [],
   "source": [
    "### 列表的串接\n",
    "grades=grades+[12,33] # 使用加號(+)做簡單的串接\n",
    "print(grades)\n",
    "\n",
    "### 取得列表的數字長度\n",
    "length=len(grades) # 變數=len(列表資料)\n",
    "print(length)\n",
    "print(len(grades)) # 可作為另一個簡單的公式"
   ]
  },
  {
   "cell_type": "code",
   "execution_count": null,
   "metadata": {},
   "outputs": [],
   "source": [
    "### 巢狀列表\n",
    "data=[[3,4,5],[6,7,8]]\n",
    "print(data[0][1]) # 最終輸出是按照順序.第一個數字(0)是代表第一層的第一元素[3,4,5].第二個數字(1)是代表第二層的第二元素[4]\n",
    "print(data[0][0:2]) # 印出選取特定的資料\n",
    "data[0][0:2]=[5,5,5] # 指定原本資料.更換成新的資料\n",
    "print(data)"
   ]
  },
  {
   "cell_type": "code",
   "execution_count": null,
   "metadata": {},
   "outputs": [],
   "source": [
    "#### 有序不可變動的列表(Tuple)\n",
    "data=(3,4,5) # 使用括號()\n",
    "print(data[2])\n",
    "print(data[0:2]) # 跟list一樣可以用索引.選定資料\n",
    "#data[0]=5 # 錯誤公式:tuple的資料不能更動\n",
    "print(data)"
   ]
  },
  {
   "cell_type": "code",
   "execution_count": null,
   "metadata": {},
   "outputs": [],
   "source": [
    "#集合的運算\n",
    "s1 = {3,4,5}\n",
    "s2 = {4,5,6,7}\n",
    "s3 = s1&s2   # 交集：取兩個集合中,相同的資料\n",
    "s4 = s1|s2   # 聯集：取兩個集合中的所有資料,但不重複取\n",
    "s5 = s1 - s2 # 差集：從S1中,減去和s2重疊的部分\n",
    "s6 = s1^s2   # 反交集：取兩個集合中,不重疊的部分\n",
    "print(3 in s1)    #True\n",
    "print(10 not in s1) #True\n",
    "print(s3)\n",
    "print(s4)\n",
    "print(s5)\n",
    "print(s6)\n",
    "\n",
    "s = set(\"Hello\") # 把字串中的字母拆解成集合：set(字串)\n",
    "print(s)\n",
    "print(\"H\" in s)\n",
    "print(\"A\" in s)\n",
    "print(\"h\" in s)"
   ]
  },
  {
   "cell_type": "code",
   "execution_count": null,
   "metadata": {},
   "outputs": [],
   "source": [
    "#字典的運算: key-value 配對\n",
    "dic = {\"apple\":\"蘋果\", \"bug\":\"蟲蟲\"}\n",
    "dic[\"apple\"]= \"小蘋果\"\n",
    "print(dic[\"apple\"])\n",
    "\n",
    "print(\"apple\" in dic) #判斷 key 是否存在\n",
    "print(\"test\" not in dic)\n",
    "\n",
    "print(dic)\n",
    "del dic[\"apple\"] #刪除字典中的鍵值對 (key-value pair)\n",
    "print(dic)\n",
    "\n",
    "dic = {x:x*2 for x in [3, 4, 5]} #從列表的資料產生字典 #\"x\"可代換, for in 是固定的, 列表要給他一個列表\n",
    "print(dic)"
   ]
  }
 ],
 "metadata": {
  "kernelspec": {
   "display_name": "Python 3",
   "language": "python",
   "name": "python3"
  },
  "language_info": {
   "codemirror_mode": {
    "name": "ipython",
    "version": 3
   },
   "file_extension": ".py",
   "mimetype": "text/x-python",
   "name": "python",
   "nbconvert_exporter": "python",
   "pygments_lexer": "ipython3",
   "version": "3.13.2"
  }
 },
 "nbformat": 4,
 "nbformat_minor": 2
}
