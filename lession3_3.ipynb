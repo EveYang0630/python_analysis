{
 "cells": [
  {
   "cell_type": "markdown",
   "metadata": {},
   "source": [
    "_*My Note Place*_  \n",
    "\n",
    "把資料輸出為CSV  \n",
    "students清單現在有50個字典，用file物件把記憶體中的資料串流(stream)寫入(W)CSV"
   ]
  },
  {
   "cell_type": "code",
   "execution_count": null,
   "metadata": {},
   "outputs": [],
   "source": [
    "import random\n",
    "students=[]\n",
    "for i in range(1,51):\n",
    "    students.append(\n",
    "        {\n",
    "        'name': f\"Student{i}\",\n",
    "        'chinese': random.randint(60, 100),\n",
    "        'english': random.randint(60, 100),\n",
    "        'math': random.randint(60, 100),\n",
    "        'history': random.randint(60, 100),\n",
    "        'health': random.randint(60, 100)\n",
    "        }\n",
    "    )\n",
    "students"
   ]
  },
  {
   "cell_type": "code",
   "execution_count": 9,
   "metadata": {},
   "outputs": [
    {
     "name": "stdout",
     "output_type": "stream",
     "text": [
      "<class '_io.TextIOWrapper'>\n",
      "<class 'csv.DictWriter'>\n"
     ]
    },
    {
     "data": {
      "text/plain": [
       "True"
      ]
     },
     "execution_count": 9,
     "metadata": {},
     "output_type": "execute_result"
    }
   ],
   "source": [
    "import csv\n",
    "\n",
    "file = open('student.csv',mode='w',encoding='utf-8',newline='')\n",
    "writer=csv.DictWriter(file,['name','chinese','english','math','history','health'])\n",
    "print(type(file))\n",
    "print(type(writer))\n",
    "writer.writeheader()\n",
    "writer.writerows(students)\n",
    "\n",
    "file.close()\n",
    "file.closed\n",
    "#closed是屬性，不是實體方法。該屬性是確認目前檔案是否關閉中。\n",
    "#傳完資料要記得用實體方法close關掉，才不會耗資源。"
   ]
  }
 ],
 "metadata": {
  "kernelspec": {
   "display_name": "base",
   "language": "python",
   "name": "python3"
  },
  "language_info": {
   "codemirror_mode": {
    "name": "ipython",
    "version": 3
   },
   "file_extension": ".py",
   "mimetype": "text/x-python",
   "name": "python",
   "nbconvert_exporter": "python",
   "pygments_lexer": "ipython3",
   "version": "3.12.2"
  }
 },
 "nbformat": 4,
 "nbformat_minor": 2
}
