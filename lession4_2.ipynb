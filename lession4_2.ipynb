{
 "cells": [
  {
   "cell_type": "markdown",
   "metadata": {},
   "source": [
    "### open()功能將檔案開啟為TextIOWrapper"
   ]
  },
  {
   "cell_type": "code",
   "execution_count": 12,
   "metadata": {},
   "outputs": [
    {
     "name": "stdout",
     "output_type": "stream",
     "text": [
      "<class '_io.TextIOWrapper'>\n"
     ]
    },
    {
     "data": {
      "text/plain": [
       "True"
      ]
     },
     "execution_count": 12,
     "metadata": {},
     "output_type": "execute_result"
    }
   ],
   "source": [
    "file=open(file='student.csv', encoding='utf-8', mode='r')\n",
    "print(type(file))   ##實體的class為TextIOWrapper\n",
    "file.close()  ##close()為TextIOWrapper的實體方法\n",
    "file.closed"
   ]
  },
  {
   "cell_type": "markdown",
   "metadata": {},
   "source": [
    "### TextIOWrapper實體方法read()將檔案開啟為str"
   ]
  },
  {
   "cell_type": "code",
   "execution_count": 13,
   "metadata": {},
   "outputs": [
    {
     "name": "stdout",
     "output_type": "stream",
     "text": [
      "name,chinese,english,math,history,health\n",
      "Student1,98,97,99,89,73\n",
      "Student2,61,60,87,71,74\n",
      "Student3,66,100,91,82,84\n",
      "Student4,80,66,68,73,86\n",
      "Student5,93,68,63,72,79\n",
      "Student6,88,72,87,70,97\n",
      "Student7,61,68,80,86,92\n",
      "Student8,100,82,61,67,99\n",
      "Student9,97,64,63,65,80\n",
      "Student10,78,61,81,60,63\n",
      "Student11,84,89,96,75,67\n",
      "Student12,68,100,70,64,92\n",
      "Student13,63,70,78,71,81\n",
      "Student14,73,78,95,85,87\n",
      "Student15,66,75,87,94,92\n",
      "Student16,71,91,97,60,83\n",
      "Student17,66,93,64,71,60\n",
      "Student18,85,69,84,85,69\n",
      "Student19,81,77,96,83,91\n",
      "Student20,82,98,81,94,100\n",
      "Student21,77,94,76,89,85\n",
      "Student22,96,80,63,64,85\n",
      "Student23,84,98,78,77,71\n",
      "Student24,94,90,65,96,98\n",
      "Student25,68,83,100,89,91\n",
      "Student26,69,82,74,60,77\n",
      "Student27,63,90,62,60,90\n",
      "Student28,85,80,85,77,98\n",
      "Student29,77,76,95,99,61\n",
      "Student30,67,69,83,83,70\n",
      "Student31,83,86,92,69,76\n",
      "Student32,97,67,85,94,88\n",
      "Student33,93,90,68,97,65\n",
      "Student34,72,100,60,85,74\n",
      "Student35,97,63,100,93,90\n",
      "Student36,100,93,91,60,86\n",
      "Student37,95,74,65,68,77\n",
      "Student38,85,82,83,77,60\n",
      "Student39,70,82,86,71,74\n",
      "Student40,70,98,65,92,96\n",
      "Student41,81,65,62,76,62\n",
      "Student42,69,100,75,60,82\n",
      "Student43,81,88,85,87,61\n",
      "Student44,83,66,73,98,62\n",
      "Student45,81,65,82,62,81\n",
      "Student46,75,61,72,89,93\n",
      "Student47,86,82,76,83,81\n",
      "Student48,79,69,69,70,78\n",
      "Student49,100,75,80,70,76\n",
      "Student50,90,77,93,89,81\n",
      "\n",
      "<class 'str'>\n"
     ]
    }
   ],
   "source": [
    "with open(file='student.csv', encoding='utf-8', mode='r') as file:\n",
    "    content:str=file.read()\n",
    "\n",
    "print(content)\n",
    "print(type(content))"
   ]
  },
  {
   "cell_type": "markdown",
   "metadata": {},
   "source": [
    "**_list有兩大重要功能，為\"搜尋\"&\"排序\"_**  \n",
    "以下要將str轉為list\n"
   ]
  },
  {
   "cell_type": "markdown",
   "metadata": {},
   "source": [
    "### TextIOWrapper實體方法readlines()將檔案開啟為list[str]"
   ]
  },
  {
   "cell_type": "code",
   "execution_count": 14,
   "metadata": {},
   "outputs": [
    {
     "name": "stdout",
     "output_type": "stream",
     "text": [
      "['name,chinese,english,math,history,health\\n', 'Student1,98,97,99,89,73\\n', 'Student2,61,60,87,71,74\\n', 'Student3,66,100,91,82,84\\n', 'Student4,80,66,68,73,86\\n', 'Student5,93,68,63,72,79\\n', 'Student6,88,72,87,70,97\\n', 'Student7,61,68,80,86,92\\n', 'Student8,100,82,61,67,99\\n', 'Student9,97,64,63,65,80\\n', 'Student10,78,61,81,60,63\\n', 'Student11,84,89,96,75,67\\n', 'Student12,68,100,70,64,92\\n', 'Student13,63,70,78,71,81\\n', 'Student14,73,78,95,85,87\\n', 'Student15,66,75,87,94,92\\n', 'Student16,71,91,97,60,83\\n', 'Student17,66,93,64,71,60\\n', 'Student18,85,69,84,85,69\\n', 'Student19,81,77,96,83,91\\n', 'Student20,82,98,81,94,100\\n', 'Student21,77,94,76,89,85\\n', 'Student22,96,80,63,64,85\\n', 'Student23,84,98,78,77,71\\n', 'Student24,94,90,65,96,98\\n', 'Student25,68,83,100,89,91\\n', 'Student26,69,82,74,60,77\\n', 'Student27,63,90,62,60,90\\n', 'Student28,85,80,85,77,98\\n', 'Student29,77,76,95,99,61\\n', 'Student30,67,69,83,83,70\\n', 'Student31,83,86,92,69,76\\n', 'Student32,97,67,85,94,88\\n', 'Student33,93,90,68,97,65\\n', 'Student34,72,100,60,85,74\\n', 'Student35,97,63,100,93,90\\n', 'Student36,100,93,91,60,86\\n', 'Student37,95,74,65,68,77\\n', 'Student38,85,82,83,77,60\\n', 'Student39,70,82,86,71,74\\n', 'Student40,70,98,65,92,96\\n', 'Student41,81,65,62,76,62\\n', 'Student42,69,100,75,60,82\\n', 'Student43,81,88,85,87,61\\n', 'Student44,83,66,73,98,62\\n', 'Student45,81,65,82,62,81\\n', 'Student46,75,61,72,89,93\\n', 'Student47,86,82,76,83,81\\n', 'Student48,79,69,69,70,78\\n', 'Student49,100,75,80,70,76\\n', 'Student50,90,77,93,89,81\\n']\n",
      "<class 'list'>\n"
     ]
    }
   ],
   "source": [
    "with open(file='student.csv',encoding='utf-8') as file:\n",
    "    lines:list[str] = file.readlines()\n",
    "    print(lines)\n",
    "\n",
    "print(type(lines))"
   ]
  },
  {
   "cell_type": "markdown",
   "metadata": {},
   "source": [
    "### csv模組--將CSV檔案呈現為list裡面又list\n",
    "\n",
    "csv模組的方法reader()將檔案開啟為csv.reader  \n",
    "用next()跳過第一列(待查)  \n",
    "用list()轉成list"
   ]
  },
  {
   "cell_type": "code",
   "execution_count": 15,
   "metadata": {},
   "outputs": [
    {
     "name": "stdout",
     "output_type": "stream",
     "text": [
      "['Student20', '82', '98', '81', '94', '100']\n",
      "<class '_csv.reader'>\n",
      "<class 'list'>\n",
      "<class 'list'>\n"
     ]
    }
   ],
   "source": [
    "import csv\n",
    "with open(file='student.csv',encoding='utf-8') as file:\n",
    "    reader = csv.reader(file)\n",
    "    next(reader)\n",
    "    students:list = list(reader)\n",
    "\n",
    "for student in students:\n",
    "    if student[0] == 'Student20':\n",
    "        print(student)\n",
    "\n",
    "print(type(reader))\n",
    "print(type(students))\n",
    "print(type(student))"
   ]
  },
  {
   "cell_type": "markdown",
   "metadata": {},
   "source": [
    "### csv模組--將CSV檔案呈現為list裡面又dict\n",
    "\n",
    "csv模組的方法DictReader()將檔案開啟為csv.DictReader[str]  \n",
    "用list()轉成list"
   ]
  },
  {
   "cell_type": "code",
   "execution_count": 16,
   "metadata": {},
   "outputs": [
    {
     "name": "stdout",
     "output_type": "stream",
     "text": [
      "[{'name': 'Student1', 'chinese': '98', 'english': '97', 'math': '99', 'history': '89', 'health': '73'}, {'name': 'Student2', 'chinese': '61', 'english': '60', 'math': '87', 'history': '71', 'health': '74'}, {'name': 'Student3', 'chinese': '66', 'english': '100', 'math': '91', 'history': '82', 'health': '84'}, {'name': 'Student4', 'chinese': '80', 'english': '66', 'math': '68', 'history': '73', 'health': '86'}, {'name': 'Student5', 'chinese': '93', 'english': '68', 'math': '63', 'history': '72', 'health': '79'}, {'name': 'Student6', 'chinese': '88', 'english': '72', 'math': '87', 'history': '70', 'health': '97'}, {'name': 'Student7', 'chinese': '61', 'english': '68', 'math': '80', 'history': '86', 'health': '92'}, {'name': 'Student8', 'chinese': '100', 'english': '82', 'math': '61', 'history': '67', 'health': '99'}, {'name': 'Student9', 'chinese': '97', 'english': '64', 'math': '63', 'history': '65', 'health': '80'}, {'name': 'Student10', 'chinese': '78', 'english': '61', 'math': '81', 'history': '60', 'health': '63'}, {'name': 'Student11', 'chinese': '84', 'english': '89', 'math': '96', 'history': '75', 'health': '67'}, {'name': 'Student12', 'chinese': '68', 'english': '100', 'math': '70', 'history': '64', 'health': '92'}, {'name': 'Student13', 'chinese': '63', 'english': '70', 'math': '78', 'history': '71', 'health': '81'}, {'name': 'Student14', 'chinese': '73', 'english': '78', 'math': '95', 'history': '85', 'health': '87'}, {'name': 'Student15', 'chinese': '66', 'english': '75', 'math': '87', 'history': '94', 'health': '92'}, {'name': 'Student16', 'chinese': '71', 'english': '91', 'math': '97', 'history': '60', 'health': '83'}, {'name': 'Student17', 'chinese': '66', 'english': '93', 'math': '64', 'history': '71', 'health': '60'}, {'name': 'Student18', 'chinese': '85', 'english': '69', 'math': '84', 'history': '85', 'health': '69'}, {'name': 'Student19', 'chinese': '81', 'english': '77', 'math': '96', 'history': '83', 'health': '91'}, {'name': 'Student20', 'chinese': '82', 'english': '98', 'math': '81', 'history': '94', 'health': '100'}, {'name': 'Student21', 'chinese': '77', 'english': '94', 'math': '76', 'history': '89', 'health': '85'}, {'name': 'Student22', 'chinese': '96', 'english': '80', 'math': '63', 'history': '64', 'health': '85'}, {'name': 'Student23', 'chinese': '84', 'english': '98', 'math': '78', 'history': '77', 'health': '71'}, {'name': 'Student24', 'chinese': '94', 'english': '90', 'math': '65', 'history': '96', 'health': '98'}, {'name': 'Student25', 'chinese': '68', 'english': '83', 'math': '100', 'history': '89', 'health': '91'}, {'name': 'Student26', 'chinese': '69', 'english': '82', 'math': '74', 'history': '60', 'health': '77'}, {'name': 'Student27', 'chinese': '63', 'english': '90', 'math': '62', 'history': '60', 'health': '90'}, {'name': 'Student28', 'chinese': '85', 'english': '80', 'math': '85', 'history': '77', 'health': '98'}, {'name': 'Student29', 'chinese': '77', 'english': '76', 'math': '95', 'history': '99', 'health': '61'}, {'name': 'Student30', 'chinese': '67', 'english': '69', 'math': '83', 'history': '83', 'health': '70'}, {'name': 'Student31', 'chinese': '83', 'english': '86', 'math': '92', 'history': '69', 'health': '76'}, {'name': 'Student32', 'chinese': '97', 'english': '67', 'math': '85', 'history': '94', 'health': '88'}, {'name': 'Student33', 'chinese': '93', 'english': '90', 'math': '68', 'history': '97', 'health': '65'}, {'name': 'Student34', 'chinese': '72', 'english': '100', 'math': '60', 'history': '85', 'health': '74'}, {'name': 'Student35', 'chinese': '97', 'english': '63', 'math': '100', 'history': '93', 'health': '90'}, {'name': 'Student36', 'chinese': '100', 'english': '93', 'math': '91', 'history': '60', 'health': '86'}, {'name': 'Student37', 'chinese': '95', 'english': '74', 'math': '65', 'history': '68', 'health': '77'}, {'name': 'Student38', 'chinese': '85', 'english': '82', 'math': '83', 'history': '77', 'health': '60'}, {'name': 'Student39', 'chinese': '70', 'english': '82', 'math': '86', 'history': '71', 'health': '74'}, {'name': 'Student40', 'chinese': '70', 'english': '98', 'math': '65', 'history': '92', 'health': '96'}, {'name': 'Student41', 'chinese': '81', 'english': '65', 'math': '62', 'history': '76', 'health': '62'}, {'name': 'Student42', 'chinese': '69', 'english': '100', 'math': '75', 'history': '60', 'health': '82'}, {'name': 'Student43', 'chinese': '81', 'english': '88', 'math': '85', 'history': '87', 'health': '61'}, {'name': 'Student44', 'chinese': '83', 'english': '66', 'math': '73', 'history': '98', 'health': '62'}, {'name': 'Student45', 'chinese': '81', 'english': '65', 'math': '82', 'history': '62', 'health': '81'}, {'name': 'Student46', 'chinese': '75', 'english': '61', 'math': '72', 'history': '89', 'health': '93'}, {'name': 'Student47', 'chinese': '86', 'english': '82', 'math': '76', 'history': '83', 'health': '81'}, {'name': 'Student48', 'chinese': '79', 'english': '69', 'math': '69', 'history': '70', 'health': '78'}, {'name': 'Student49', 'chinese': '100', 'english': '75', 'math': '80', 'history': '70', 'health': '76'}, {'name': 'Student50', 'chinese': '90', 'english': '77', 'math': '93', 'history': '89', 'health': '81'}]\n",
      "{'name': 'Student20', 'chinese': '82', 'english': '98', 'math': '81', 'history': '94', 'health': '100'}\n",
      "<class 'csv.DictReader'>\n",
      "<class 'list'>\n",
      "<class 'dict'>\n"
     ]
    }
   ],
   "source": [
    "import csv\n",
    "with open(file='student.csv',encoding='utf-8') as file:\n",
    "    reader=csv.DictReader(file)  ###我們這次想改成list裡面有dictionary\n",
    "    students=list(reader)\n",
    "\n",
    "print(students)\n",
    "\n",
    "for student in students:\n",
    "    if student['name']=='Student20':\n",
    "        print(student)\n",
    "\n",
    "print(type(reader))\n",
    "print(type(students))\n",
    "print(type(student))\n",
    "    "
   ]
  },
  {
   "cell_type": "code",
   "execution_count": 17,
   "metadata": {},
   "outputs": [
    {
     "name": "stdout",
     "output_type": "stream",
     "text": [
      "[{'chinese': '98',\n",
      "  'english': '97',\n",
      "  'health': '73',\n",
      "  'history': '89',\n",
      "  'math': '99',\n",
      "  'name': 'Student1'},\n",
      " {'chinese': '61',\n",
      "  'english': '60',\n",
      "  'health': '74',\n",
      "  'history': '71',\n",
      "  'math': '87',\n",
      "  'name': 'Student2'},\n",
      " {'chinese': '66',\n",
      "  'english': '100',\n",
      "  'health': '84',\n",
      "  'history': '82',\n",
      "  'math': '91',\n",
      "  'name': 'Student3'},\n",
      " {'chinese': '80',\n",
      "  'english': '66',\n",
      "  'health': '86',\n",
      "  'history': '73',\n",
      "  'math': '68',\n",
      "  'name': 'Student4'},\n",
      " {'chinese': '93',\n",
      "  'english': '68',\n",
      "  'health': '79',\n",
      "  'history': '72',\n",
      "  'math': '63',\n",
      "  'name': 'Student5'},\n",
      " {'chinese': '88',\n",
      "  'english': '72',\n",
      "  'health': '97',\n",
      "  'history': '70',\n",
      "  'math': '87',\n",
      "  'name': 'Student6'},\n",
      " {'chinese': '61',\n",
      "  'english': '68',\n",
      "  'health': '92',\n",
      "  'history': '86',\n",
      "  'math': '80',\n",
      "  'name': 'Student7'},\n",
      " {'chinese': '100',\n",
      "  'english': '82',\n",
      "  'health': '99',\n",
      "  'history': '67',\n",
      "  'math': '61',\n",
      "  'name': 'Student8'},\n",
      " {'chinese': '97',\n",
      "  'english': '64',\n",
      "  'health': '80',\n",
      "  'history': '65',\n",
      "  'math': '63',\n",
      "  'name': 'Student9'},\n",
      " {'chinese': '78',\n",
      "  'english': '61',\n",
      "  'health': '63',\n",
      "  'history': '60',\n",
      "  'math': '81',\n",
      "  'name': 'Student10'},\n",
      " {'chinese': '84',\n",
      "  'english': '89',\n",
      "  'health': '67',\n",
      "  'history': '75',\n",
      "  'math': '96',\n",
      "  'name': 'Student11'},\n",
      " {'chinese': '68',\n",
      "  'english': '100',\n",
      "  'health': '92',\n",
      "  'history': '64',\n",
      "  'math': '70',\n",
      "  'name': 'Student12'},\n",
      " {'chinese': '63',\n",
      "  'english': '70',\n",
      "  'health': '81',\n",
      "  'history': '71',\n",
      "  'math': '78',\n",
      "  'name': 'Student13'},\n",
      " {'chinese': '73',\n",
      "  'english': '78',\n",
      "  'health': '87',\n",
      "  'history': '85',\n",
      "  'math': '95',\n",
      "  'name': 'Student14'},\n",
      " {'chinese': '66',\n",
      "  'english': '75',\n",
      "  'health': '92',\n",
      "  'history': '94',\n",
      "  'math': '87',\n",
      "  'name': 'Student15'},\n",
      " {'chinese': '71',\n",
      "  'english': '91',\n",
      "  'health': '83',\n",
      "  'history': '60',\n",
      "  'math': '97',\n",
      "  'name': 'Student16'},\n",
      " {'chinese': '66',\n",
      "  'english': '93',\n",
      "  'health': '60',\n",
      "  'history': '71',\n",
      "  'math': '64',\n",
      "  'name': 'Student17'},\n",
      " {'chinese': '85',\n",
      "  'english': '69',\n",
      "  'health': '69',\n",
      "  'history': '85',\n",
      "  'math': '84',\n",
      "  'name': 'Student18'},\n",
      " {'chinese': '81',\n",
      "  'english': '77',\n",
      "  'health': '91',\n",
      "  'history': '83',\n",
      "  'math': '96',\n",
      "  'name': 'Student19'},\n",
      " {'chinese': '82',\n",
      "  'english': '98',\n",
      "  'health': '100',\n",
      "  'history': '94',\n",
      "  'math': '81',\n",
      "  'name': 'Student20'},\n",
      " {'chinese': '77',\n",
      "  'english': '94',\n",
      "  'health': '85',\n",
      "  'history': '89',\n",
      "  'math': '76',\n",
      "  'name': 'Student21'},\n",
      " {'chinese': '96',\n",
      "  'english': '80',\n",
      "  'health': '85',\n",
      "  'history': '64',\n",
      "  'math': '63',\n",
      "  'name': 'Student22'},\n",
      " {'chinese': '84',\n",
      "  'english': '98',\n",
      "  'health': '71',\n",
      "  'history': '77',\n",
      "  'math': '78',\n",
      "  'name': 'Student23'},\n",
      " {'chinese': '94',\n",
      "  'english': '90',\n",
      "  'health': '98',\n",
      "  'history': '96',\n",
      "  'math': '65',\n",
      "  'name': 'Student24'},\n",
      " {'chinese': '68',\n",
      "  'english': '83',\n",
      "  'health': '91',\n",
      "  'history': '89',\n",
      "  'math': '100',\n",
      "  'name': 'Student25'},\n",
      " {'chinese': '69',\n",
      "  'english': '82',\n",
      "  'health': '77',\n",
      "  'history': '60',\n",
      "  'math': '74',\n",
      "  'name': 'Student26'},\n",
      " {'chinese': '63',\n",
      "  'english': '90',\n",
      "  'health': '90',\n",
      "  'history': '60',\n",
      "  'math': '62',\n",
      "  'name': 'Student27'},\n",
      " {'chinese': '85',\n",
      "  'english': '80',\n",
      "  'health': '98',\n",
      "  'history': '77',\n",
      "  'math': '85',\n",
      "  'name': 'Student28'},\n",
      " {'chinese': '77',\n",
      "  'english': '76',\n",
      "  'health': '61',\n",
      "  'history': '99',\n",
      "  'math': '95',\n",
      "  'name': 'Student29'},\n",
      " {'chinese': '67',\n",
      "  'english': '69',\n",
      "  'health': '70',\n",
      "  'history': '83',\n",
      "  'math': '83',\n",
      "  'name': 'Student30'},\n",
      " {'chinese': '83',\n",
      "  'english': '86',\n",
      "  'health': '76',\n",
      "  'history': '69',\n",
      "  'math': '92',\n",
      "  'name': 'Student31'},\n",
      " {'chinese': '97',\n",
      "  'english': '67',\n",
      "  'health': '88',\n",
      "  'history': '94',\n",
      "  'math': '85',\n",
      "  'name': 'Student32'},\n",
      " {'chinese': '93',\n",
      "  'english': '90',\n",
      "  'health': '65',\n",
      "  'history': '97',\n",
      "  'math': '68',\n",
      "  'name': 'Student33'},\n",
      " {'chinese': '72',\n",
      "  'english': '100',\n",
      "  'health': '74',\n",
      "  'history': '85',\n",
      "  'math': '60',\n",
      "  'name': 'Student34'},\n",
      " {'chinese': '97',\n",
      "  'english': '63',\n",
      "  'health': '90',\n",
      "  'history': '93',\n",
      "  'math': '100',\n",
      "  'name': 'Student35'},\n",
      " {'chinese': '100',\n",
      "  'english': '93',\n",
      "  'health': '86',\n",
      "  'history': '60',\n",
      "  'math': '91',\n",
      "  'name': 'Student36'},\n",
      " {'chinese': '95',\n",
      "  'english': '74',\n",
      "  'health': '77',\n",
      "  'history': '68',\n",
      "  'math': '65',\n",
      "  'name': 'Student37'},\n",
      " {'chinese': '85',\n",
      "  'english': '82',\n",
      "  'health': '60',\n",
      "  'history': '77',\n",
      "  'math': '83',\n",
      "  'name': 'Student38'},\n",
      " {'chinese': '70',\n",
      "  'english': '82',\n",
      "  'health': '74',\n",
      "  'history': '71',\n",
      "  'math': '86',\n",
      "  'name': 'Student39'},\n",
      " {'chinese': '70',\n",
      "  'english': '98',\n",
      "  'health': '96',\n",
      "  'history': '92',\n",
      "  'math': '65',\n",
      "  'name': 'Student40'},\n",
      " {'chinese': '81',\n",
      "  'english': '65',\n",
      "  'health': '62',\n",
      "  'history': '76',\n",
      "  'math': '62',\n",
      "  'name': 'Student41'},\n",
      " {'chinese': '69',\n",
      "  'english': '100',\n",
      "  'health': '82',\n",
      "  'history': '60',\n",
      "  'math': '75',\n",
      "  'name': 'Student42'},\n",
      " {'chinese': '81',\n",
      "  'english': '88',\n",
      "  'health': '61',\n",
      "  'history': '87',\n",
      "  'math': '85',\n",
      "  'name': 'Student43'},\n",
      " {'chinese': '83',\n",
      "  'english': '66',\n",
      "  'health': '62',\n",
      "  'history': '98',\n",
      "  'math': '73',\n",
      "  'name': 'Student44'},\n",
      " {'chinese': '81',\n",
      "  'english': '65',\n",
      "  'health': '81',\n",
      "  'history': '62',\n",
      "  'math': '82',\n",
      "  'name': 'Student45'},\n",
      " {'chinese': '75',\n",
      "  'english': '61',\n",
      "  'health': '93',\n",
      "  'history': '89',\n",
      "  'math': '72',\n",
      "  'name': 'Student46'},\n",
      " {'chinese': '86',\n",
      "  'english': '82',\n",
      "  'health': '81',\n",
      "  'history': '83',\n",
      "  'math': '76',\n",
      "  'name': 'Student47'},\n",
      " {'chinese': '79',\n",
      "  'english': '69',\n",
      "  'health': '78',\n",
      "  'history': '70',\n",
      "  'math': '69',\n",
      "  'name': 'Student48'},\n",
      " {'chinese': '100',\n",
      "  'english': '75',\n",
      "  'health': '76',\n",
      "  'history': '70',\n",
      "  'math': '80',\n",
      "  'name': 'Student49'},\n",
      " {'chinese': '90',\n",
      "  'english': '77',\n",
      "  'health': '81',\n",
      "  'history': '89',\n",
      "  'math': '93',\n",
      "  'name': 'Student50'}]\n"
     ]
    }
   ],
   "source": [
    "###另一種可以輸出含dict的list方式，模組：pprint()\n",
    "\n",
    "import csv\n",
    "from pprint import pprint  ##使用這句程式碼導入pprint模組\n",
    "with open(file='student.csv',encoding='utf-8') as file:\n",
    "    reader=csv.DictReader(file)  ###我們這次想改成list裡面有dictionary\n",
    "    students=list(reader)\n",
    "\n",
    "pprint(students)"
   ]
  },
  {
   "cell_type": "markdown",
   "metadata": {},
   "source": [
    "**★小幫手：在程式碼區域，全選後，ctl+I，在輸入欄告訴coplit想做的事，可以讓AI協助修正程式碼。**"
   ]
  },
  {
   "cell_type": "code",
   "execution_count": 18,
   "metadata": {},
   "outputs": [
    {
     "name": "stdout",
     "output_type": "stream",
     "text": [
      "[{'地址': '宜蘭市新民路152號',\n",
      "  '機構名稱': '國立陽明大學附設醫院護理之家',\n",
      "  '聯絡電話': '9325192',\n",
      "  '\\ufeff序號': '1'},\n",
      " {'地址': '羅東鎮中正南路160號',\n",
      "  '機構名稱': '天主教靈醫會醫療財團法人附設羅東聖母護理之家',\n",
      "  '聯絡電話': '9544106',\n",
      "  '\\ufeff序號': '2'},\n",
      " {'地址': '蘇澳鎮蘇濱路一段301號',\n",
      "  '機構名稱': '臺北榮民總醫院蘇澳分院附設護理之家',\n",
      "  '聯絡電話': '9905106',\n",
      "  '\\ufeff序號': '3'},\n",
      " {'地址': '員山鄉內城村榮光路386號',\n",
      "  '機構名稱': '臺北榮民總醫院員山分院附設護理之家',\n",
      "  '聯絡電話': '9222141',\n",
      "  '\\ufeff序號': '4'},\n",
      " {'地址': '員山鄉深溝村尚深路91號',\n",
      "  '機構名稱': '宜蘭員山醫療財團法人附設員山護理之家',\n",
      "  '聯絡電話': '9220292',\n",
      "  '\\ufeff序號': '5'},\n",
      " {'地址': '羅東鎮南門路37號3-5樓',\n",
      "  '機構名稱': '私立六福護理之家',\n",
      "  '聯絡電話': '9558886',\n",
      "  '\\ufeff序號': '6'},\n",
      " {'地址': '蘇澳鎮中山路一段218號3樓', '機構名稱': '建生護理之家', '聯絡電話': '9961121', '\\ufeff序號': '7'},\n",
      " {'地址': '宜蘭市宜興路一段79號3-5樓',\n",
      "  '機構名稱': '迦勤護理之家',\n",
      "  '聯絡電話': '9315119',\n",
      "  '\\ufeff序號': '8'}]\n"
     ]
    }
   ],
   "source": [
    "##用政府資料開放平台的'宜蘭縣一般護理之家.csv'\n",
    "\n",
    "import csv\n",
    "from pprint import pprint  ##使用這句程式碼導入pprint模組\n",
    "with open(file='abc.csv',encoding='utf-8') as file:\n",
    "    reader = csv.DictReader(file)\n",
    "    homes = list(reader)\n",
    "\n",
    "pprint(homes)"
   ]
  },
  {
   "cell_type": "markdown",
   "metadata": {},
   "source": [
    "### 取用jason資料"
   ]
  },
  {
   "cell_type": "code",
   "execution_count": 19,
   "metadata": {},
   "outputs": [
    {
     "name": "stdout",
     "output_type": "stream",
     "text": [
      "YouBike即時資訊下載完成！\n"
     ]
    }
   ],
   "source": [
    "##用政府資料開放平台的json檔案\n",
    "##使用web API 節點(url)抓取即時資料，以下為AI撰寫的code\n",
    "import requests\n",
    "\n",
    "url='https://tcgbusfs.blob.core.windows.net/dotapp/youbike/v2/youbike_immediate.json'\n",
    "\n",
    "try:\n",
    "    response = requests.get(url)\n",
    "    response.raise_for_status()  # 檢查HTTP狀態碼，確保請求成功\n",
    "\n",
    "    data = response.json()  # 將JSON格式的資料轉換為Python字典\n",
    "\n",
    "    # 在這裡你可以對data做任何處理，例如儲存到檔案或分析資料\n",
    "    # 以下是一個簡單的範例，將資料儲存到youbike_data.json檔案中\n",
    "    with open('youbike_data.json', 'w', encoding='utf-8') as f:\n",
    "        import json\n",
    "        json.dump(data, f, ensure_ascii=False, indent=4)\n",
    "\n",
    "    print('YouBike即時資訊下載完成！')\n",
    "\n",
    "except requests.exceptions.RequestException as e:\n",
    "    print(f'下載YouBike即時資訊時發生錯誤：{e}')\n",
    "except json.JSONDecodeError as e:\n",
    "    print(f'解析JSON資料時發生錯誤：{e}')"
   ]
  },
  {
   "cell_type": "code",
   "execution_count": 20,
   "metadata": {},
   "outputs": [],
   "source": [
    "#自己寫\n",
    "import requests\n",
    "from requests import Response\n",
    "\n",
    "url='https://tcgbusfs.blob.core.windows.net/dotapp/youbike/v2/youbike_immediate.json'\n",
    "\n",
    "#response的class為requests.Response，如果還沒先用from requests import Response導入Response，就必須這樣寫成下方code。\n",
    "#response:requests.Response = requests.get(url=url)  \n",
    "##使用requests模組的get功能(function)，可以取得url的資料，class為Response\n",
    "response:Response = requests.get(url=url)\n",
    "\n",
    "#response.headers ##注意!headers是屬性，不是實體方法\n",
    "#response.text ##text屬性可以取得str資料\n",
    "\n",
    "#▲▲▲我們把程式碼拆開成塊，是因為不要太常要求下載資料，以免浪費server資源在回覆下載需求上。"
   ]
  },
  {
   "cell_type": "code",
   "execution_count": 21,
   "metadata": {},
   "outputs": [
    {
     "name": "stdout",
     "output_type": "stream",
     "text": [
      "{'sno': '500119009', 'sna': 'YouBike2.0_臺大水源舍區B棟', 'sarea': '臺大公館校區', 'mday': '2025-02-22 14:49:15', 'ar': '汀洲路三段60巷2弄路側(B舍北側)', 'sareaen': 'NTU Dist', 'snaen': 'YouBike2.0_NTU ShuiYuan Dorms(B)', 'aren': 'Aly. 2， Ln. 60， Sec. 3， Tingzhou Rd. Dorms B(North)', 'act': '1', 'srcUpdateTime': '2025-02-22 14:49:20', 'updateTime': '2025-02-22 14:49:26', 'infoTime': '2025-02-22 14:49:15', 'infoDate': '2025-02-22', 'total': 30, 'available_rent_bikes': 17, 'latitude': 25.01525, 'longitude': 121.53009, 'available_return_bikes': 13}\n"
     ]
    }
   ],
   "source": [
    "if response.status_code==200:  ##用屬性status_code檢查連線是否正常，200是連線正常\n",
    "    sites:list[dict]=response.json() ##有方塊圖示的表示為實體方法；這個實體方法可以輸出結構化資料list\n",
    "    for item in sites:\n",
    "        if item['sna']=='YouBike2.0_臺大水源舍區B棟':\n",
    "            print(item)\n",
    "\n",
    "##其他我該懂得概念：'=='稱為比較運算子，另外不等於是'!='。\n",
    "        \n",
    "else:\n",
    "    print(response.status_code)  #可以把網址改成錯的來測試這段code，但只能解決網址錯誤。如果連線失敗或網路塞車，會導致crash，可能被罵死。\n",
    "    print('下載失敗')"
   ]
  },
  {
   "cell_type": "code",
   "execution_count": 22,
   "metadata": {},
   "outputs": [
    {
     "ename": "ZeroDivisionError",
     "evalue": "division by zero",
     "output_type": "error",
     "traceback": [
      "\u001b[0;31m---------------------------------------------------------------------------\u001b[0m",
      "\u001b[0;31mZeroDivisionError\u001b[0m                         Traceback (most recent call last)",
      "Cell \u001b[0;32mIn[22], line 1\u001b[0m\n\u001b[0;32m----> 1\u001b[0m \u001b[38;5;241;43m5\u001b[39;49m\u001b[38;5;241;43m/\u001b[39;49m\u001b[38;5;241;43m0\u001b[39;49m   \u001b[38;5;66;03m#系統會raise一個錯誤(ZeroDivisionError)，系統crash\u001b[39;00m\n",
      "\u001b[0;31mZeroDivisionError\u001b[0m: division by zero"
     ]
    }
   ],
   "source": [
    "5/0   #系統會raise一個錯誤(ZeroDivisionError)，系統crash"
   ]
  },
  {
   "cell_type": "code",
   "execution_count": null,
   "metadata": {},
   "outputs": [
    {
     "name": "stdout",
     "output_type": "stream",
     "text": [
      "發生錯誤情況：division by zero\n"
     ]
    }
   ],
   "source": [
    "try:\n",
    "    5/0\n",
    "except Exception as e:       #Exception是class，他的意思是例外。\n",
    "    print(f'發生錯誤情況：{e}')"
   ]
  },
  {
   "cell_type": "code",
   "execution_count": null,
   "metadata": {},
   "outputs": [
    {
     "name": "stdout",
     "output_type": "stream",
     "text": [
      "發生錯誤情況：404 Client Error: The specified blob does not exist. for url: https://tcgbusfs.blob.core.windows.net/dotapp/youike/v2/youbike_immediate.json\n"
     ]
    }
   ],
   "source": [
    "import requests\n",
    "from requests import Response\n",
    "try:\n",
    "    url='https://tcgbusfs.blob.core.windows.net/dotapp/youike/v2/youbike_immediate.json'  ##改成youike試試\\\n",
    "    response:Response = requests.get(url=url)\n",
    "    response.raise_for_status()\n",
    "    sites:list=response.json()\n",
    "    for item in sites:\n",
    "        if item['sna']=='YouBike2.0_臺大水源舍區B棟':\n",
    "            print(item)\n",
    "\n",
    "except Exception as e:\n",
    "    print(f'發生錯誤情況：{e}')\n",
    "\n",
    "# raise_for_status() 實體方法會檢查回應的狀態碼。如果狀態碼表示請求失敗（4xx 或 5xx），它會拋出一個 HTTPError 異常，讓你可以捕捉並處理這個錯誤。如果狀態碼表示請求成功（2xx），則不會有任何反應。\n",
    "# 如果請求成功，response.raise_for_status() 不會拋出異常，程式碼會繼續執行，解析 JSON 資料並印出 YouBike 站點資訊。\n",
    "# 如果請求失敗，response.raise_for_status() 會拋出 HTTPError 異常，except 區塊會捕捉到這個異常，並印出錯誤訊息。"
   ]
  }
 ],
 "metadata": {
  "kernelspec": {
   "display_name": "base",
   "language": "python",
   "name": "python3"
  },
  "language_info": {
   "codemirror_mode": {
    "name": "ipython",
    "version": 3
   },
   "file_extension": ".py",
   "mimetype": "text/x-python",
   "name": "python",
   "nbconvert_exporter": "python",
   "pygments_lexer": "ipython3",
   "version": "3.12.9"
  }
 },
 "nbformat": 4,
 "nbformat_minor": 2
}
