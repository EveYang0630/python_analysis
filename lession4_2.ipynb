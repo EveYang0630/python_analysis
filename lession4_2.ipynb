{
 "cells": [
  {
   "cell_type": "code",
   "execution_count": 11,
   "metadata": {},
   "outputs": [
    {
     "name": "stdout",
     "output_type": "stream",
     "text": [
      "<class '_io.TextIOWrapper'>\n"
     ]
    },
    {
     "data": {
      "text/plain": [
       "True"
      ]
     },
     "execution_count": 11,
     "metadata": {},
     "output_type": "execute_result"
    }
   ],
   "source": [
    "file=open(file='student.csv', encoding='utf-8', mode='r')\n",
    "print(type(file))   ##實體的class為TextIOWrapper\n",
    "file.close()  ##close()為TextIOWrapper的實體方法\n",
    "file.closed"
   ]
  },
  {
   "cell_type": "code",
   "execution_count": null,
   "metadata": {},
   "outputs": [],
   "source": [
    "with open(file='student.csv', encoding='utf-8', mode='r') as file:\n",
    "    content:str=file.read()\n",
    "\n",
    "print(content)"
   ]
  },
  {
   "cell_type": "markdown",
   "metadata": {},
   "source": [
    "**_list有兩大重要功能，為\"搜尋\"&\"排序\"_**\n",
    "以下要將str轉為list\n"
   ]
  },
  {
   "cell_type": "code",
   "execution_count": 35,
   "metadata": {},
   "outputs": [
    {
     "name": "stdout",
     "output_type": "stream",
     "text": [
      "['name,chinese,english,math,history,health\\n', 'Student1,98,97,99,89,73\\n', 'Student2,61,60,87,71,74\\n', 'Student3,66,100,91,82,84\\n', 'Student4,80,66,68,73,86\\n', 'Student5,93,68,63,72,79\\n', 'Student6,88,72,87,70,97\\n', 'Student7,61,68,80,86,92\\n', 'Student8,100,82,61,67,99\\n', 'Student9,97,64,63,65,80\\n', 'Student10,78,61,81,60,63\\n', 'Student11,84,89,96,75,67\\n', 'Student12,68,100,70,64,92\\n', 'Student13,63,70,78,71,81\\n', 'Student14,73,78,95,85,87\\n', 'Student15,66,75,87,94,92\\n', 'Student16,71,91,97,60,83\\n', 'Student17,66,93,64,71,60\\n', 'Student18,85,69,84,85,69\\n', 'Student19,81,77,96,83,91\\n', 'Student20,82,98,81,94,100\\n', 'Student21,77,94,76,89,85\\n', 'Student22,96,80,63,64,85\\n', 'Student23,84,98,78,77,71\\n', 'Student24,94,90,65,96,98\\n', 'Student25,68,83,100,89,91\\n', 'Student26,69,82,74,60,77\\n', 'Student27,63,90,62,60,90\\n', 'Student28,85,80,85,77,98\\n', 'Student29,77,76,95,99,61\\n', 'Student30,67,69,83,83,70\\n', 'Student31,83,86,92,69,76\\n', 'Student32,97,67,85,94,88\\n', 'Student33,93,90,68,97,65\\n', 'Student34,72,100,60,85,74\\n', 'Student35,97,63,100,93,90\\n', 'Student36,100,93,91,60,86\\n', 'Student37,95,74,65,68,77\\n', 'Student38,85,82,83,77,60\\n', 'Student39,70,82,86,71,74\\n', 'Student40,70,98,65,92,96\\n', 'Student41,81,65,62,76,62\\n', 'Student42,69,100,75,60,82\\n', 'Student43,81,88,85,87,61\\n', 'Student44,83,66,73,98,62\\n', 'Student45,81,65,82,62,81\\n', 'Student46,75,61,72,89,93\\n', 'Student47,86,82,76,83,81\\n', 'Student48,79,69,69,70,78\\n', 'Student49,100,75,80,70,76\\n', 'Student50,90,77,93,89,81\\n']\n"
     ]
    }
   ],
   "source": [
    "with open(file='student.csv',encoding='utf-8') as file:\n",
    "    lines:list[str] = file.readlines()\n",
    "    print(lines)\n"
   ]
  },
  {
   "cell_type": "code",
   "execution_count": 41,
   "metadata": {},
   "outputs": [
    {
     "name": "stdout",
     "output_type": "stream",
     "text": [
      "['Student20', '82', '98', '81', '94', '100']\n"
     ]
    }
   ],
   "source": [
    "import csv\n",
    "with open(file='student.csv',encoding='utf-8') as file:\n",
    "    reader = csv.reader(file)\n",
    "    next(reader)\n",
    "    students:list = list(reader)\n",
    "\n",
    "for student in students:\n",
    "    if student[0] == 'Student20':\n",
    "        print(student)\n",
    "    "
   ]
  },
  {
   "cell_type": "code",
   "execution_count": 46,
   "metadata": {},
   "outputs": [
    {
     "name": "stdout",
     "output_type": "stream",
     "text": [
      "{'name': 'Student20', 'chinese': '82', 'english': '98', 'math': '81', 'history': '94', 'health': '100'}\n"
     ]
    }
   ],
   "source": [
    "import csv\n",
    "with open(file='student.csv',encoding='utf-8') as file:\n",
    "    reader=csv.DictReader(file)\n",
    "    students=list(reader)\n",
    "\n",
    "for student in students:\n",
    "    if student['name']=='Student20':\n",
    "        print(student)\n",
    "    "
   ]
  }
 ],
 "metadata": {
  "kernelspec": {
   "display_name": "base",
   "language": "python",
   "name": "python3"
  },
  "language_info": {
   "codemirror_mode": {
    "name": "ipython",
    "version": 3
   },
   "file_extension": ".py",
   "mimetype": "text/x-python",
   "name": "python",
   "nbconvert_exporter": "python",
   "pygments_lexer": "ipython3",
   "version": "3.12.8"
  }
 },
 "nbformat": 4,
 "nbformat_minor": 2
}
