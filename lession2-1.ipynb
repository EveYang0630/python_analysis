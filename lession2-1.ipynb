{
 "cells": [
  {
   "cell_type": "code",
   "execution_count": 2,
   "metadata": {},
   "outputs": [
    {
     "name": "stdout",
     "output_type": "stream",
     "text": [
      "20\n",
      "10\n"
     ]
    }
   ],
   "source": [
    "print((3+2)*4)\n",
    "print(2*(1+2)**2-2**2*2)"
   ]
  },
  {
   "cell_type": "markdown",
   "metadata": {},
   "source": [
    "傳出：例如\"1+2\"、input(prompt)  \n",
    "接收：建立變數  \n",
    "未傳出： =、print  \n",
    "prompt：**參數** promater  "
   ]
  },
  {
   "cell_type": "code",
   "execution_count": 3,
   "metadata": {},
   "outputs": [
    {
     "name": "stdout",
     "output_type": "stream",
     "text": [
      "17\n"
     ]
    }
   ],
   "source": [
    "n=1+5\n",
    "m=n+5\n",
    "print(n+m)"
   ]
  },
  {
   "cell_type": "code",
   "execution_count": 9,
   "metadata": {},
   "outputs": [
    {
     "name": "stdout",
     "output_type": "stream",
     "text": [
      "<class 'str'>\n",
      "<class 'float'>\n",
      "55.0\n"
     ]
    }
   ],
   "source": [
    "x=input('請輸入x的值：')\n",
    "print(type(x))\n",
    "result=float(x)+10\n",
    "print(type(result))\n",
    "print(result)\n",
    "radius=float(input(\"plz enter a Num：\"))"
   ]
  },
  {
   "cell_type": "code",
   "execution_count": 13,
   "metadata": {},
   "outputs": [
    {
     "name": "stdout",
     "output_type": "stream",
     "text": [
      "1_2_3_lalala  ~ the end\n"
     ]
    }
   ],
   "source": [
    "print(1,\n",
    "      2,\n",
    "      3,\n",
    "      'lalala',end='  ~ the end\\n',sep='_')"
   ]
  },
  {
   "cell_type": "code",
   "execution_count": 18,
   "metadata": {},
   "outputs": [
    {
     "name": "stdout",
     "output_type": "stream",
     "text": [
      "1+2+3\n",
      "not never = 6\n",
      "\n",
      "The END, again😎\n"
     ]
    }
   ],
   "source": [
    "print('1+2+3')\n",
    "print('not never = 6')\n",
    "print()\n",
    "print('The END, again😎')"
   ]
  }
 ],
 "metadata": {
  "kernelspec": {
   "display_name": "base",
   "language": "python",
   "name": "python3"
  },
  "language_info": {
   "codemirror_mode": {
    "name": "ipython",
    "version": 3
   },
   "file_extension": ".py",
   "mimetype": "text/x-python",
   "name": "python",
   "nbconvert_exporter": "python",
   "pygments_lexer": "ipython3",
   "version": "3.12.2"
  }
 },
 "nbformat": 4,
 "nbformat_minor": 2
}
