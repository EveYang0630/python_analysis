{
 "cells": [
  {
   "cell_type": "code",
   "execution_count": 1,
   "metadata": {},
   "outputs": [
    {
     "name": "stdout",
     "output_type": "stream",
     "text": [
      "安裝1:vscode\n",
      "安裝2:mini-conda\n",
      "安裝3:git\n",
      "day 2：另一種更輕鬆的方法~Docker\n"
     ]
    }
   ],
   "source": [
    "print('安裝1:vscode')\n",
    "print('安裝2:mini-conda')\n",
    "print('安裝3:git')\n",
    "print(\"day 2：另一種更輕鬆的方法~Docker\")\n",
    "# 1. 安裝Docker，用訪客登入就好。\n",
    "# 2. 在image裡面頂部搜尋列貼入\"continuumio/miniconda3\"，按pull從雲端下載下來。\n",
    "# 3. 開terminal，選cmd，於終端機內輸入\"docker run -it --name python-miniconda continuumio/miniconda3\"\n",
    "# 4. 成功建立新的container\"python-miniconda continuumio/miniconda3\"，前方亮綠燈表示PC已開機。(後方有stop關機鍵)\n",
    "# 5. 在VSCode安裝擴充\"Docker\"、\"Dev Containers\"\n",
    "# 6. 在Docker功能中，右鍵點擊剛才已經建好的Container，連結到Visual Studio Code\n",
    "# 7. 在檔案總管，連結到github中的Project，儲存路徑選home"
   ]
  },
  {
   "cell_type": "code",
   "execution_count": 1,
   "metadata": {},
   "outputs": [
    {
     "data": {
      "text/plain": [
       "int"
      ]
     },
     "execution_count": 1,
     "metadata": {},
     "output_type": "execute_result"
    }
   ],
   "source": [
    "#int整數\n",
    "type(2)"
   ]
  },
  {
   "cell_type": "code",
   "execution_count": 2,
   "metadata": {},
   "outputs": [
    {
     "data": {
      "text/plain": [
       "str"
      ]
     },
     "execution_count": 2,
     "metadata": {},
     "output_type": "execute_result"
    }
   ],
   "source": [
    "#字串str\n",
    "type(\"2.0\")\n"
   ]
  },
  {
   "cell_type": "code",
   "execution_count": 1,
   "metadata": {},
   "outputs": [
    {
     "data": {
      "text/plain": [
       "float"
      ]
     },
     "execution_count": 1,
     "metadata": {},
     "output_type": "execute_result"
    }
   ],
   "source": [
    "#浮點數float\n",
    "type(2.12)"
   ]
  },
  {
   "cell_type": "code",
   "execution_count": 1,
   "metadata": {},
   "outputs": [
    {
     "name": "stdout",
     "output_type": "stream",
     "text": [
      "15\n",
      "-5\n",
      "50\n",
      "3.3333333333333335\n",
      "3\n",
      "27\n",
      "1\n"
     ]
    }
   ],
   "source": [
    "print(5 + 10)\n",
    "print(5 - 10)\n",
    "print(5 * 10)\n",
    "print(10 / 3)\n",
    "print(10 // 3)\n",
    "print(3 ** 3)\n",
    "print(10 % 3)"
   ]
  }
 ],
 "metadata": {
  "kernelspec": {
   "display_name": "base",
   "language": "python",
   "name": "python3"
  },
  "language_info": {
   "codemirror_mode": {
    "name": "ipython",
    "version": 3
   },
   "file_extension": ".py",
   "mimetype": "text/x-python",
   "name": "python",
   "nbconvert_exporter": "python",
   "pygments_lexer": "ipython3",
   "version": "3.12.2"
  }
 },
 "nbformat": 4,
 "nbformat_minor": 2
}
