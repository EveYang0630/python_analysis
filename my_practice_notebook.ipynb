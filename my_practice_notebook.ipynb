{
  "cells": [
    {
      "cell_type": "markdown",
      "metadata": {
        "id": "JjASA0N6CIza"
      },
      "source": [
        "### **必學小工具**\n",
        "_**輸入特殊字元**_\n",
        "\n",
        "跳脫字元：\\  \n",
        "換行1：\"字串\\n字串\"  \n",
        "換行2：空兩格，如：\"字串__字串\"\n",
        "\n",
        "**_cmd的操控指令_**\n",
        "\n",
        "強制結束：ctl+c  \n",
        "清除終端機內容：cls"
      ]
    },
    {
      "cell_type": "markdown",
      "metadata": {
        "id": "fXRJ361YXTK9"
      },
      "source": [
        "### **print()、input() 與 資料型態**"
      ]
    },
    {
      "cell_type": "code",
      "execution_count": null,
      "metadata": {
        "colab": {
          "base_uri": "https://localhost:8080/",
          "height": 105
        },
        "id": "PIXtianYYB-U",
        "outputId": "c7e1eb53-58a2-4129-e46a-e853106757dd"
      },
      "outputs": [
        {
          "name": "stdout",
          "output_type": "stream",
          "text": [
            "apple Orange banana\n",
            "apple、Orange、banana\n",
            "appleOrangebanana\n",
            "Orangebanana\n"
          ]
        },
        {
          "data": {
            "application/vnd.google.colaboratory.intrinsic+json": {
              "type": "string"
            },
            "text/plain": [
              "'Hello~Hello~Hello~有人嗎?'"
            ]
          },
          "execution_count": 17,
          "metadata": {},
          "output_type": "execute_result"
        }
      ],
      "source": [
        "A1='apple'\n",
        "A2,A3='Orange','banana'\n",
        "#print的基本運用\n",
        "print(A1,A2,A3)\n",
        "print(A1,A2,A3,sep=\"、\")\n",
        "print(A1+A2+A3)\n",
        "print('Orange' 'banana') #用空格串接字串，效果同\"+\"，但此處放變數會error喔\n",
        "\"Hello~\"*3+\"有人嗎?\""
      ]
    },
    {
      "cell_type": "code",
      "execution_count": null,
      "metadata": {
        "colab": {
          "base_uri": "https://localhost:8080/"
        },
        "id": "sRgAH2YuDv06",
        "outputId": "da47dab0-7614-4bd8-b7b2-e6fd0263fcae"
      },
      "outputs": [
        {
          "name": "stdout",
          "output_type": "stream",
          "text": [
            "True\n",
            "False\n",
            "Hell\n"
          ]
        }
      ],
      "source": [
        "a=\"Hello\"\n",
        "print(\"l\" in a)\n",
        "print(\"b\" in a)\n",
        "print(a[0:4])"
      ]
    },
    {
      "cell_type": "code",
      "execution_count": null,
      "metadata": {
        "colab": {
          "base_uri": "https://localhost:8080/"
        },
        "id": "ElKeIQ1NafBC",
        "outputId": "0abf0a57-307e-4ee2-b3c8-13af5a445627"
      },
      "outputs": [
        {
          "name": "stdout",
          "output_type": "stream",
          "text": [
            "10750984\n",
            "10751464\n",
            "134859651336432\n"
          ]
        }
      ],
      "source": [
        "#同樣的變數名稱，變換為不同的參考，ID也會變更\n",
        "a=5\n",
        "print(id(a))\n",
        "a=20\n",
        "print(id(a))\n",
        "a=\"test\"\n",
        "print(id(a))"
      ]
    },
    {
      "cell_type": "code",
      "execution_count": null,
      "metadata": {
        "colab": {
          "base_uri": "https://localhost:8080/"
        },
        "id": "_iElQjx9b055",
        "outputId": "0a8ea54c-b1a7-4ab9-831c-2669bb2cb343"
      },
      "outputs": [
        {
          "name": "stdout",
          "output_type": "stream",
          "text": [
            "輸入整數1a: 2\n",
            "輸入整數1b: 5\n",
            "int輸入c:4\n",
            "int輸入d:5\n",
            "25\n",
            "9\n"
          ]
        }
      ],
      "source": [
        "#input輸出的型態為字串，使用時要注意資料型態\n",
        "a = input(\"輸入整數1a: \")\n",
        "b = input(\"輸入整數1b: \")\n",
        "c = int(input(\"int輸入c:\"))\n",
        "d = int(input(\"int輸入d:\"))\n",
        "f=a+b\n",
        "g=c+d\n",
        "print(f)\n",
        "print(g)"
      ]
    },
    {
      "cell_type": "code",
      "execution_count": null,
      "metadata": {
        "colab": {
          "base_uri": "https://localhost:8080/"
        },
        "id": "KqpoiQJokoLI",
        "outputId": "7ab6994f-7c31-4c53-fb79-caca30e5d344"
      },
      "outputs": [
        {
          "name": "stdout",
          "output_type": "stream",
          "text": [
            "int輸入c:2\n",
            "int輸入d:5\n",
            "7\n",
            "float輸入h:2\n",
            "float輸入i:5\n",
            "7.0\n"
          ]
        }
      ],
      "source": [
        "c = int(input(\"int輸入c:\"))\n",
        "d = int(input(\"int輸入d:\"))\n",
        "g=c+d\n",
        "print(g)\n",
        "h = float(input(\"float輸入h:\"))\n",
        "i = float(input(\"float輸入i:\"))\n",
        "j=h+d  #整數與浮點數相加為浮點數\n",
        "print(j)"
      ]
    },
    {
      "cell_type": "code",
      "execution_count": null,
      "metadata": {
        "colab": {
          "base_uri": "https://localhost:8080/"
        },
        "id": "B7PQXxhylIjf",
        "outputId": "7fd8474d-04c9-4fcf-c593-7ba6b6bba72c"
      },
      "outputs": [
        {
          "name": "stdout",
          "output_type": "stream",
          "text": [
            "輸入字串: 55\n",
            "55 <class 'int'>\n",
            "<class 'int'>\n"
          ]
        },
        {
          "data": {
            "text/plain": [
              "int"
            ]
          },
          "execution_count": 12,
          "metadata": {},
          "output_type": "execute_result"
        }
      ],
      "source": [
        "a = int(input(\"輸入字串: \"))\n",
        "print(a,a.__class__)  # <變數.__class__> 和 <type(變數)> 可回傳資料型態\n",
        "b=type(a)\n",
        "print(b)\n",
        "type(a)"
      ]
    },
    {
      "cell_type": "markdown",
      "metadata": {
        "id": "TuOyF6_GZ16_"
      },
      "source": [
        "### **list、tauple、set、dic 與微加碼 for in**"
      ]
    },
    {
      "cell_type": "code",
      "execution_count": null,
      "metadata": {
        "colab": {
          "base_uri": "https://localhost:8080/"
        },
        "id": "iJcfJpAxEt7p",
        "outputId": "51f66b41-ad49-45ac-effc-3de8781b63c3"
      },
      "outputs": [
        {
          "name": "stdout",
          "output_type": "stream",
          "text": [
            "[12, 60, 15, 70, 90]\n",
            "12\n",
            "[55, 60, 15, 70, 90]\n",
            "[55, 90]\n"
          ]
        }
      ],
      "source": [
        "# 有序可變動的列表(List)\n",
        "\n",
        "grades=[12,60,15,70,90]\n",
        "print(grades)\n",
        "print(grades[0]) # 索引的基本運用\n",
        "grades[0]=55 # 更新列表內容\n",
        "print(grades)\n",
        "grades[1:4]=[] # 特地連續刪除從編號1到編號4(4不包括)之前的資料\n",
        "print(grades)"
      ]
    },
    {
      "cell_type": "code",
      "execution_count": null,
      "metadata": {
        "colab": {
          "base_uri": "https://localhost:8080/"
        },
        "id": "kL7h6ydzE4vR",
        "outputId": "7fb04e7d-7482-4228-cc3c-943cdb682e3c"
      },
      "outputs": [
        {
          "name": "stdout",
          "output_type": "stream",
          "text": [
            "[55, 12, 33, 12, 33]\n",
            "5\n",
            "5\n"
          ]
        }
      ],
      "source": [
        "### 列表的串接\n",
        "grades=grades+[12,33] # 使用加號(+)做簡單的串接\n",
        "print(grades)\n",
        "\n",
        "### 取得列表的數字長度\n",
        "length=len(grades) # 變數=len(列表資料)\n",
        "print(length)\n",
        "print(len(grades)) # 可作為另一個簡單的公式"
      ]
    },
    {
      "cell_type": "code",
      "execution_count": null,
      "metadata": {
        "colab": {
          "base_uri": "https://localhost:8080/"
        },
        "id": "RTvrw_n6FcIp",
        "outputId": "e5506ed7-8755-452e-9525-3c6ccf6ac22d"
      },
      "outputs": [
        {
          "name": "stdout",
          "output_type": "stream",
          "text": [
            "4\n",
            "[3, 4]\n",
            "[[5, 5, 5, 5], [6, 7, 8]]\n"
          ]
        }
      ],
      "source": [
        "### 巢狀列表\n",
        "data=[[3,4,5],[6,7,8]]\n",
        "print(data[0][1]) # 最終輸出是按照順序.第一個數字(0)是代表第一層的第一元素[3,4,5].第二個數字(1)是代表第二層的第二元素[4]\n",
        "print(data[0][0:2]) # 印出選取特定的資料\n",
        "data[0][0:2]=[5,5,5] # 指定原本資料.更換成新的資料\n",
        "print(data)"
      ]
    },
    {
      "cell_type": "code",
      "execution_count": null,
      "metadata": {
        "colab": {
          "base_uri": "https://localhost:8080/"
        },
        "id": "dqyqb5c1NtVh",
        "outputId": "ac6b27cb-f325-4f3a-9fc4-c7af993cf62d"
      },
      "outputs": [
        {
          "name": "stdout",
          "output_type": "stream",
          "text": [
            "5\n",
            "(3, 4)\n",
            "(3, 4, 5)\n"
          ]
        }
      ],
      "source": [
        "#### 有序不可變動的列表(Tuple)\n",
        "data=(3,4,5) # 使用括號()\n",
        "print(data[2])\n",
        "print(data[0:2]) # 跟list一樣可以用索引.選定資料\n",
        "#data[0]=5 # 錯誤公式:tuple的資料不能更動\n",
        "print(data)"
      ]
    },
    {
      "cell_type": "code",
      "execution_count": null,
      "metadata": {
        "colab": {
          "base_uri": "https://localhost:8080/"
        },
        "id": "Owl1YIWINPKh",
        "outputId": "eab8ff45-d7c0-413e-d72d-4662ea696fbc"
      },
      "outputs": [
        {
          "name": "stdout",
          "output_type": "stream",
          "text": [
            "True\n",
            "True\n",
            "{4, 5}\n",
            "{3, 4, 5, 6, 7}\n",
            "{3}\n",
            "{3, 6, 7}\n",
            "{'e', 'o', 'l', 'H'}\n",
            "True\n",
            "False\n",
            "False\n"
          ]
        }
      ],
      "source": [
        "#集合的運算\n",
        "s1 = {3,4,5}\n",
        "s2 = {4,5,6,7}\n",
        "s3 = s1&s2   # 交集：取兩個集合中,相同的資料\n",
        "s4 = s1|s2   # 聯集：取兩個集合中的所有資料,但不重複取\n",
        "s5 = s1 - s2 # 差集：從S1中,減去和s2重疊的部分\n",
        "s6 = s1^s2   # 反交集：取兩個集合中,不重疊的部分\n",
        "print(3 in s1)    #True\n",
        "print(10 not in s1) #True\n",
        "print(s3)\n",
        "print(s4)\n",
        "print(s5)\n",
        "print(s6)\n",
        "\n",
        "s = set(\"Hello\") # 把字串中的字母拆解成集合：set(字串)\n",
        "print(s)\n",
        "print(\"H\" in s)\n",
        "print(\"A\" in s)\n",
        "print(\"h\" in s)"
      ]
    },
    {
      "cell_type": "code",
      "execution_count": null,
      "metadata": {
        "colab": {
          "base_uri": "https://localhost:8080/"
        },
        "id": "P37Sj-1vOuRI",
        "outputId": "1a9ed10a-be54-4e2e-a8c1-aeec344e5fe9"
      },
      "outputs": [
        {
          "name": "stdout",
          "output_type": "stream",
          "text": [
            "小蘋果\n",
            "True\n",
            "True\n",
            "{'apple': '小蘋果', 'bug': '蟲蟲'}\n",
            "{'bug': '蟲蟲'}\n",
            "{3: 6, 4: 8, 5: 10}\n"
          ]
        }
      ],
      "source": [
        "#字典的運算: key-value 配對\n",
        "dic = {\"apple\":\"蘋果\", \"bug\":\"蟲蟲\"}\n",
        "dic[\"apple\"]= \"小蘋果\"\n",
        "print(dic[\"apple\"])\n",
        "\n",
        "print(\"apple\" in dic) #判斷 key 是否存在\n",
        "print(\"test\" not in dic)\n",
        "\n",
        "print(dic)\n",
        "del dic[\"apple\"] #刪除字典中的鍵值對 (key-value pair)\n",
        "print(dic)\n",
        "\n",
        "dic = {x:x*2 for x in [3, 4, 5]} #從列表的資料產生字典 #\"x\"可代換, for in 是固定的, 列表要給他一個列表\n",
        "print(dic)"
      ]
    },
    {
      "cell_type": "markdown",
      "metadata": {
        "id": "8Op_fryJZPEx"
      },
      "source": [
        "###**if/elif/else ... :**"
      ]
    },
    {
      "cell_type": "code",
      "execution_count": null,
      "metadata": {
        "colab": {
          "base_uri": "https://localhost:8080/"
        },
        "id": "QrQWxNHGnbEw",
        "outputId": "5953e428-f445-4bf2-dd78-a63a8bcb2bfc"
      },
      "outputs": [
        {
          "name": "stdout",
          "output_type": "stream",
          "text": [
            "大於18\n",
            "執行結束\n"
          ]
        }
      ],
      "source": [
        "#if函式，\"if 條件:\"下一列縮排一格撰寫if條件為True的話要做什麼。為false的話要跟if條件在同級縮排。\n",
        "a=21\n",
        "if a>18:\n",
        "\tprint(\"大於18\")\n",
        "\n",
        "print(\"執行結束\")"
      ]
    },
    {
      "cell_type": "code",
      "execution_count": null,
      "metadata": {
        "colab": {
          "base_uri": "https://localhost:8080/"
        },
        "id": "cjOb_ABrRRrJ",
        "outputId": "a3401eaf-071e-4b19-b631-98b0540c3587"
      },
      "outputs": [
        {
          "name": "stdout",
          "output_type": "stream",
          "text": [
            "True 執行\n",
            "False 執行\n"
          ]
        }
      ],
      "source": [
        "# 判斷式\n",
        "if True:\n",
        "   print(\"True 執行\")\n",
        "else:\n",
        "   print(\"False 執行\")\n",
        "\n",
        "if False:\n",
        "   print(\"True 執行\")\n",
        "else:\n",
        "   print(\"False 執行\")"
      ]
    },
    {
      "cell_type": "code",
      "execution_count": null,
      "metadata": {
        "id": "ZOtoJI3hRdww"
      },
      "outputs": [],
      "source": [
        "x=input(\"請輸入數字︰\") # 取得字串形式的使用者輸入\n",
        "x=int(x) # 將字串型態轉換成數字型態\n",
        "if x>200:\n",
        "    print(\"大於 200\")\n",
        "elif x>100:\n",
        "    print(\"大於 100，小於等於 200\")\n",
        "else:\n",
        "    print(\"小於等於 100\")"
      ]
    },
    {
      "cell_type": "code",
      "execution_count": null,
      "metadata": {
        "colab": {
          "base_uri": "https://localhost:8080/"
        },
        "id": "QqPxDWFgYmKA",
        "outputId": "6bf64b6b-8397-4b05-a27c-a2316491ba30"
      },
      "outputs": [
        {
          "name": "stdout",
          "output_type": "stream",
          "text": [
            "請輸入數字一︰10\n",
            "請輸入數字二︰5\n",
            "請輸入運算符號(+、-、*、/):/\n",
            "2.0\n"
          ]
        }
      ],
      "source": [
        "# 四則運算\n",
        "n1=int(input(\"請輸入數字一︰\"))\n",
        "n2=int(input(\"請輸入數字二︰\"))\n",
        "op=input(\"請輸入運算符號(+、-、*、/):\")\n",
        "if op==\"+\":\n",
        "    print(n1+n2)\n",
        "elif op==\"-\":\n",
        "    print(n1-n2)\n",
        "elif op==\"*\":\n",
        "    print(n1*n2)\n",
        "elif op==\"/\":\n",
        "    print(n1/n2)\n",
        "else:\n",
        "    print(\"不支援的運算\")"
      ]
    },
    {
      "cell_type": "markdown",
      "metadata": {
        "id": "mf6uWA3hbUgZ"
      },
      "source": []
    }
  ],
  "metadata": {
    "colab": {
      "authorship_tag": "ABX9TyMbhWMsQRpmb+xk/bjgOnc7",
      "provenance": [],
      "toc_visible": true
    },
    "kernelspec": {
      "display_name": "Python 3",
      "name": "python3"
    },
    "language_info": {
      "name": "python"
    }
  },
  "nbformat": 4,
  "nbformat_minor": 0
}
