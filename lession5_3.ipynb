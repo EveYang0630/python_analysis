{
 "cells": [
  {
   "cell_type": "code",
   "execution_count": 42,
   "metadata": {},
   "outputs": [
    {
     "data": {
      "text/plain": [
       "array([[67, 94, 65],\n",
       "       [78, 92, 68],\n",
       "       [59, 92, 87]])"
      ]
     },
     "execution_count": 42,
     "metadata": {},
     "output_type": "execute_result"
    }
   ],
   "source": [
    "import numpy as np\n",
    "students=np.array([\n",
    "    [67,94,65],\n",
    "    [78,92,68],\n",
    "    [59,92,87]\n",
    "    ])\n",
    "\n",
    "students"
   ]
  },
  {
   "cell_type": "code",
   "execution_count": 43,
   "metadata": {},
   "outputs": [
    {
     "data": {
      "text/html": [
       "<div>\n",
       "<style scoped>\n",
       "    .dataframe tbody tr th:only-of-type {\n",
       "        vertical-align: middle;\n",
       "    }\n",
       "\n",
       "    .dataframe tbody tr th {\n",
       "        vertical-align: top;\n",
       "    }\n",
       "\n",
       "    .dataframe thead th {\n",
       "        text-align: right;\n",
       "    }\n",
       "</style>\n",
       "<table border=\"1\" class=\"dataframe\">\n",
       "  <thead>\n",
       "    <tr style=\"text-align: right;\">\n",
       "      <th></th>\n",
       "      <th>國文</th>\n",
       "      <th>英文</th>\n",
       "      <th>數學</th>\n",
       "    </tr>\n",
       "  </thead>\n",
       "  <tbody>\n",
       "    <tr>\n",
       "      <th>stu1</th>\n",
       "      <td>67</td>\n",
       "      <td>94</td>\n",
       "      <td>65</td>\n",
       "    </tr>\n",
       "    <tr>\n",
       "      <th>stu2</th>\n",
       "      <td>78</td>\n",
       "      <td>92</td>\n",
       "      <td>68</td>\n",
       "    </tr>\n",
       "    <tr>\n",
       "      <th>stu3</th>\n",
       "      <td>59</td>\n",
       "      <td>92</td>\n",
       "      <td>87</td>\n",
       "    </tr>\n",
       "  </tbody>\n",
       "</table>\n",
       "</div>"
      ],
      "text/plain": [
       "      國文  英文  數學\n",
       "stu1  67  94  65\n",
       "stu2  78  92  68\n",
       "stu3  59  92  87"
      ]
     },
     "execution_count": 43,
     "metadata": {},
     "output_type": "execute_result"
    }
   ],
   "source": [
    "## pandas套件提供一個可以將numpy包裝成適合人閱讀的class: DataFrame\n",
    "\n",
    "import pandas as pd\n",
    "pd.DataFrame(data=students,\n",
    "             index=['stu1','stu2','stu3'],\n",
    "             columns=['國文','英文','數學']\n",
    "             )\n"
   ]
  },
  {
   "cell_type": "code",
   "execution_count": 44,
   "metadata": {},
   "outputs": [
    {
     "data": {
      "text/plain": [
       "['鄭琇亞', '蔡嘉音', '林珈發', '林向鈺', '賴佳雯']"
      ]
     },
     "execution_count": 44,
     "metadata": {},
     "output_type": "execute_result"
    }
   ],
   "source": [
    "import random\n",
    "def get_names(nums:int=10)->list[str]:  #設定預設值，:int=10和->list[str]是提示詞，get_names(nums=10)是程式碼，若沒指定num則預設取10個名字。\n",
    "    with open('names.txt',encoding='utf-8') as file:   #以utf-8字元集讀取檔案\n",
    "        content = file.read()  #用TextIOWrapper實體方法read()讀取檔案(file)內容成str\n",
    "        names = content.split(\"\\n\")  #以str的實體方法split()以換行符號分割成list[str]\n",
    "        randam_names = random.sample(names,nums)  #用random.sample()功能從names隨機取樣nums個名字，傳出list[str]\n",
    "        \n",
    "    return randam_names  #回傳隨機名字\n",
    "\n",
    "get_names(5)  #隨機取5個名字"
   ]
  },
  {
   "cell_type": "code",
   "execution_count": 48,
   "metadata": {},
   "outputs": [],
   "source": [
    "student_num=50\n",
    "data= np.random.randint(50,high=101,size=(student_num,5))  #製造student_num位學生的5科亂數(50~100)成績\n",
    "students= pd.DataFrame(data,\n",
    "                       columns=['國文','英文','數學','自然','社會'],\n",
    "                       index=get_names(student_num))"
   ]
  },
  {
   "cell_type": "code",
   "execution_count": 50,
   "metadata": {},
   "outputs": [
    {
     "name": "stdout",
     "output_type": "stream",
     "text": [
      "students已儲存為CSV檔\n"
     ]
    }
   ],
   "source": [
    "students.to_csv('students.csv')  #將DataFrame存成csv檔\n",
    "print('students已儲存為CSV檔')"
   ]
  },
  {
   "cell_type": "code",
   "execution_count": 53,
   "metadata": {},
   "outputs": [
    {
     "name": "stdout",
     "output_type": "stream",
     "text": [
      "students已儲存為xlsx檔\n"
     ]
    }
   ],
   "source": [
    "students.to_excel('students.xlsx',sheet_name='3年8班期中考分數')  #將DataFrame存成xlsx檔\n",
    "print('students已儲存為xlsx檔')"
   ]
  }
 ],
 "metadata": {
  "kernelspec": {
   "display_name": "base",
   "language": "python",
   "name": "python3"
  },
  "language_info": {
   "codemirror_mode": {
    "name": "ipython",
    "version": 3
   },
   "file_extension": ".py",
   "mimetype": "text/x-python",
   "name": "python",
   "nbconvert_exporter": "python",
   "pygments_lexer": "ipython3",
   "version": "3.12.9"
  }
 },
 "nbformat": 4,
 "nbformat_minor": 2
}
