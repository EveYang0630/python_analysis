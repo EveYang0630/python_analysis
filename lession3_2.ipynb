{
 "cells": [
  {
   "cell_type": "markdown",
   "metadata": {},
   "source": [
    "_*My Note Place*_  \n",
    "\n",
    "函式\"dict\" fountion (dictionary)"
   ]
  },
  {
   "cell_type": "code",
   "execution_count": 32,
   "metadata": {},
   "outputs": [
    {
     "data": {
      "text/plain": [
       "{'name': 'Eve Yang', 'age': 30, 'city': 'Taipei'}"
      ]
     },
     "execution_count": 32,
     "metadata": {},
     "output_type": "execute_result"
    }
   ],
   "source": [
    "p1={'name':'Eve Yang','age':30,'city':'Taipei'}\n",
    "p1"
   ]
  },
  {
   "cell_type": "code",
   "execution_count": 33,
   "metadata": {},
   "outputs": [
    {
     "name": "stdout",
     "output_type": "stream",
     "text": [
      "Eve Yang\n",
      "30\n"
     ]
    }
   ],
   "source": [
    "print(p1['name'])\n",
    "print(p1.get('age'))"
   ]
  },
  {
   "cell_type": "code",
   "execution_count": 34,
   "metadata": {},
   "outputs": [
    {
     "data": {
      "text/plain": [
       "30"
      ]
     },
     "execution_count": 34,
     "metadata": {},
     "output_type": "execute_result"
    }
   ],
   "source": [
    "del p1['city']\n",
    "p1.pop('age')"
   ]
  },
  {
   "cell_type": "code",
   "execution_count": 31,
   "metadata": {},
   "outputs": [
    {
     "ename": "NameError",
     "evalue": "name 'p1' is not defined",
     "output_type": "error",
     "traceback": [
      "\u001b[0;31m---------------------------------------------------------------------------\u001b[0m",
      "\u001b[0;31mNameError\u001b[0m                                 Traceback (most recent call last)",
      "Cell \u001b[0;32mIn[31], line 2\u001b[0m\n\u001b[1;32m      1\u001b[0m \u001b[38;5;28;01mdel\u001b[39;00m p1\n\u001b[0;32m----> 2\u001b[0m \u001b[43mp1\u001b[49m\n",
      "\u001b[0;31mNameError\u001b[0m: name 'p1' is not defined"
     ]
    }
   ],
   "source": [
    "del p1\n",
    "p1"
   ]
  },
  {
   "cell_type": "markdown",
   "metadata": {},
   "source": [
    "_*My Note Place*_  \n",
    "\n",
    "Mapping,映射  \n",
    "1   如何依序取出'串列資料'和'映射資料'的元素值  \n",
    "2   for_in迴圈"
   ]
  },
  {
   "cell_type": "markdown",
   "metadata": {},
   "source": [
    "_*list的範例*_"
   ]
  },
  {
   "cell_type": "code",
   "execution_count": 37,
   "metadata": {},
   "outputs": [
    {
     "name": "stdout",
     "output_type": "stream",
     "text": [
      "蘋果\n",
      "香蕉\n",
      "橘子\n"
     ]
    }
   ],
   "source": [
    "fruits=['蘋果','香蕉','橘子']\n",
    "# 迴圈： for  自訂變數fruit  in  ['蘋果','香蕉','橘子']，下方程式碼縮排一格\n",
    "for fruit in fruits:\n",
    "    print(fruit)"
   ]
  },
  {
   "cell_type": "code",
   "execution_count": 38,
   "metadata": {},
   "outputs": [
    {
     "name": "stdout",
     "output_type": "stream",
     "text": [
      "(0, '蘋果')\n",
      "(1, '香蕉')\n",
      "(2, '橘子')\n"
     ]
    }
   ],
   "source": [
    "for fruit in enumerate(fruits):\n",
    "    print(fruit)"
   ]
  },
  {
   "cell_type": "code",
   "execution_count": 48,
   "metadata": {},
   "outputs": [
    {
     "name": "stdout",
     "output_type": "stream",
     "text": [
      "0 ⇄ 蘋果\n",
      "===========\n",
      "1 ⇄ 香蕉\n",
      "===========\n",
      "2 ⇄ 橘子\n",
      "===========\n"
     ]
    }
   ],
   "source": [
    "for index,fruit in enumerate(fruits):\n",
    "    print(index,fruit,sep=\" ⇄ \",end=\"\\n===========\\n\")"
   ]
  },
  {
   "cell_type": "markdown",
   "metadata": {},
   "source": [
    "_*dict的範例*_"
   ]
  },
  {
   "cell_type": "code",
   "execution_count": 6,
   "metadata": {},
   "outputs": [
    {
     "data": {
      "text/plain": [
       "{'Taipei': '台北',\n",
       " 'New Taipei': '新北市',\n",
       " 'Taoyuan': '桃園',\n",
       " 'Taichung': '台中',\n",
       " 'Tainan': '台南',\n",
       " 'Kaohsiung': '高雄',\n",
       " 'Keelung': '基隆',\n",
       " 'Hsinchu': '新竹',\n",
       " 'Chiayi': '嘉義',\n",
       " 'Hualien': '花蓮'}"
      ]
     },
     "execution_count": 6,
     "metadata": {},
     "output_type": "execute_result"
    }
   ],
   "source": [
    "cities = {\n",
    "    'Taipei': '台北',\n",
    "    'New Taipei': '新北市',\n",
    "    'Taoyuan': '桃園',\n",
    "    'Taichung': '台中',\n",
    "    'Tainan': '台南',\n",
    "    'Kaohsiung': '高雄',\n",
    "    'Keelung': '基隆',\n",
    "    'Hsinchu': '新竹',\n",
    "    'Chiayi': '嘉義',\n",
    "    'Hualien': '花蓮'\n",
    "}\n",
    "cities"
   ]
  },
  {
   "cell_type": "code",
   "execution_count": 7,
   "metadata": {},
   "outputs": [
    {
     "name": "stdout",
     "output_type": "stream",
     "text": [
      "Taipei: 台北\n",
      "New Taipei: 新北市\n",
      "Taoyuan: 桃園\n",
      "Taichung: 台中\n",
      "Tainan: 台南\n",
      "Kaohsiung: 高雄\n",
      "Keelung: 基隆\n",
      "Hsinchu: 新竹\n",
      "Chiayi: 嘉義\n",
      "Hualien: 花蓮\n"
     ]
    }
   ],
   "source": [
    "for key, value in cities.items():\n",
    "    print(f\"{key}: {value}\")\n",
    "#實體名稱.item()，字典的實體方法，用以返還字典中的所有鍵值配對元素\n",
    "#字串插補f，f\"XXXXX{key}XXXXX{Value}\""
   ]
  },
  {
   "cell_type": "code",
   "execution_count": null,
   "metadata": {},
   "outputs": [],
   "source": [
    "#一個學生(student)的dictionary，格式如下：\n",
    "#{'name':'value','chinese':'78','english':98,'math':67,'history':79,'health':86}\n",
    "#幫我建立50個學生的成績(亂數)list，不要用迴圈"
   ]
  },
  {
   "cell_type": "code",
   "execution_count": null,
   "metadata": {
    "vscode": {
     "languageId": "coffeescript"
    }
   },
   "outputs": [],
   "source": [
    "#import random\n",
    "\n",
    "#students = []\n",
    "#for i in range(50):\n",
    "#    student = {\n",
    "#        'name': f'Student{i+1}',\n",
    "#        'chinese': random.randint(60, 100),\n",
    "#        'english': random.randint(60, 100),\n",
    "#        'math': random.randint(60, 100),\n",
    "#        'history': random.randint(60, 100),\n",
    "#        'health': random.randint(60, 100)\n",
    "#    }\n",
    "#    students.append(student)\n"
   ]
  },
  {
   "cell_type": "code",
   "execution_count": 18,
   "metadata": {},
   "outputs": [
    {
     "name": "stdout",
     "output_type": "stream",
     "text": [
      "<class 'list'>\n"
     ]
    },
    {
     "data": {
      "text/plain": [
       "[{'name': 'Student1',\n",
       "  'chinese': 99,\n",
       "  'english': 77,\n",
       "  'math': 72,\n",
       "  'history': 87,\n",
       "  'health': 76},\n",
       " {'name': 'Student2',\n",
       "  'chinese': 81,\n",
       "  'english': 89,\n",
       "  'math': 84,\n",
       "  'history': 87,\n",
       "  'health': 96},\n",
       " {'name': 'Student3',\n",
       "  'chinese': 84,\n",
       "  'english': 82,\n",
       "  'math': 98,\n",
       "  'history': 75,\n",
       "  'health': 82},\n",
       " {'name': 'Student4',\n",
       "  'chinese': 98,\n",
       "  'english': 78,\n",
       "  'math': 71,\n",
       "  'history': 99,\n",
       "  'health': 80},\n",
       " {'name': 'Student5',\n",
       "  'chinese': 96,\n",
       "  'english': 69,\n",
       "  'math': 65,\n",
       "  'history': 99,\n",
       "  'health': 89},\n",
       " {'name': 'Student6',\n",
       "  'chinese': 74,\n",
       "  'english': 98,\n",
       "  'math': 97,\n",
       "  'history': 76,\n",
       "  'health': 85},\n",
       " {'name': 'Student7',\n",
       "  'chinese': 80,\n",
       "  'english': 60,\n",
       "  'math': 74,\n",
       "  'history': 60,\n",
       "  'health': 84},\n",
       " {'name': 'Student8',\n",
       "  'chinese': 89,\n",
       "  'english': 61,\n",
       "  'math': 83,\n",
       "  'history': 81,\n",
       "  'health': 99},\n",
       " {'name': 'Student9',\n",
       "  'chinese': 95,\n",
       "  'english': 65,\n",
       "  'math': 89,\n",
       "  'history': 95,\n",
       "  'health': 65},\n",
       " {'name': 'Student10',\n",
       "  'chinese': 79,\n",
       "  'english': 69,\n",
       "  'math': 63,\n",
       "  'history': 71,\n",
       "  'health': 66},\n",
       " {'name': 'Student11',\n",
       "  'chinese': 85,\n",
       "  'english': 95,\n",
       "  'math': 92,\n",
       "  'history': 70,\n",
       "  'health': 70},\n",
       " {'name': 'Student12',\n",
       "  'chinese': 76,\n",
       "  'english': 60,\n",
       "  'math': 81,\n",
       "  'history': 77,\n",
       "  'health': 77},\n",
       " {'name': 'Student13',\n",
       "  'chinese': 99,\n",
       "  'english': 69,\n",
       "  'math': 64,\n",
       "  'history': 78,\n",
       "  'health': 62},\n",
       " {'name': 'Student14',\n",
       "  'chinese': 99,\n",
       "  'english': 75,\n",
       "  'math': 97,\n",
       "  'history': 61,\n",
       "  'health': 75},\n",
       " {'name': 'Student15',\n",
       "  'chinese': 60,\n",
       "  'english': 99,\n",
       "  'math': 91,\n",
       "  'history': 69,\n",
       "  'health': 88},\n",
       " {'name': 'Student16',\n",
       "  'chinese': 84,\n",
       "  'english': 67,\n",
       "  'math': 71,\n",
       "  'history': 97,\n",
       "  'health': 98},\n",
       " {'name': 'Student17',\n",
       "  'chinese': 61,\n",
       "  'english': 80,\n",
       "  'math': 98,\n",
       "  'history': 96,\n",
       "  'health': 66},\n",
       " {'name': 'Student18',\n",
       "  'chinese': 82,\n",
       "  'english': 77,\n",
       "  'math': 80,\n",
       "  'history': 63,\n",
       "  'health': 88},\n",
       " {'name': 'Student19',\n",
       "  'chinese': 69,\n",
       "  'english': 88,\n",
       "  'math': 77,\n",
       "  'history': 65,\n",
       "  'health': 64},\n",
       " {'name': 'Student20',\n",
       "  'chinese': 74,\n",
       "  'english': 68,\n",
       "  'math': 84,\n",
       "  'history': 95,\n",
       "  'health': 97},\n",
       " {'name': 'Student21',\n",
       "  'chinese': 90,\n",
       "  'english': 96,\n",
       "  'math': 88,\n",
       "  'history': 85,\n",
       "  'health': 99},\n",
       " {'name': 'Student22',\n",
       "  'chinese': 77,\n",
       "  'english': 99,\n",
       "  'math': 61,\n",
       "  'history': 74,\n",
       "  'health': 65},\n",
       " {'name': 'Student23',\n",
       "  'chinese': 90,\n",
       "  'english': 82,\n",
       "  'math': 84,\n",
       "  'history': 100,\n",
       "  'health': 94},\n",
       " {'name': 'Student24',\n",
       "  'chinese': 76,\n",
       "  'english': 78,\n",
       "  'math': 96,\n",
       "  'history': 80,\n",
       "  'health': 88},\n",
       " {'name': 'Student25',\n",
       "  'chinese': 61,\n",
       "  'english': 66,\n",
       "  'math': 81,\n",
       "  'history': 67,\n",
       "  'health': 88},\n",
       " {'name': 'Student26',\n",
       "  'chinese': 62,\n",
       "  'english': 72,\n",
       "  'math': 92,\n",
       "  'history': 72,\n",
       "  'health': 60},\n",
       " {'name': 'Student27',\n",
       "  'chinese': 100,\n",
       "  'english': 60,\n",
       "  'math': 100,\n",
       "  'history': 66,\n",
       "  'health': 97},\n",
       " {'name': 'Student28',\n",
       "  'chinese': 93,\n",
       "  'english': 97,\n",
       "  'math': 60,\n",
       "  'history': 64,\n",
       "  'health': 64},\n",
       " {'name': 'Student29',\n",
       "  'chinese': 77,\n",
       "  'english': 97,\n",
       "  'math': 64,\n",
       "  'history': 60,\n",
       "  'health': 82},\n",
       " {'name': 'Student30',\n",
       "  'chinese': 92,\n",
       "  'english': 82,\n",
       "  'math': 80,\n",
       "  'history': 81,\n",
       "  'health': 84},\n",
       " {'name': 'Student31',\n",
       "  'chinese': 77,\n",
       "  'english': 79,\n",
       "  'math': 73,\n",
       "  'history': 63,\n",
       "  'health': 99},\n",
       " {'name': 'Student32',\n",
       "  'chinese': 75,\n",
       "  'english': 87,\n",
       "  'math': 80,\n",
       "  'history': 98,\n",
       "  'health': 96},\n",
       " {'name': 'Student33',\n",
       "  'chinese': 67,\n",
       "  'english': 90,\n",
       "  'math': 84,\n",
       "  'history': 62,\n",
       "  'health': 75},\n",
       " {'name': 'Student34',\n",
       "  'chinese': 100,\n",
       "  'english': 80,\n",
       "  'math': 95,\n",
       "  'history': 99,\n",
       "  'health': 93},\n",
       " {'name': 'Student35',\n",
       "  'chinese': 89,\n",
       "  'english': 72,\n",
       "  'math': 61,\n",
       "  'history': 75,\n",
       "  'health': 77},\n",
       " {'name': 'Student36',\n",
       "  'chinese': 99,\n",
       "  'english': 70,\n",
       "  'math': 77,\n",
       "  'history': 61,\n",
       "  'health': 83},\n",
       " {'name': 'Student37',\n",
       "  'chinese': 67,\n",
       "  'english': 69,\n",
       "  'math': 91,\n",
       "  'history': 66,\n",
       "  'health': 85},\n",
       " {'name': 'Student38',\n",
       "  'chinese': 98,\n",
       "  'english': 60,\n",
       "  'math': 74,\n",
       "  'history': 82,\n",
       "  'health': 60},\n",
       " {'name': 'Student39',\n",
       "  'chinese': 68,\n",
       "  'english': 91,\n",
       "  'math': 73,\n",
       "  'history': 77,\n",
       "  'health': 78},\n",
       " {'name': 'Student40',\n",
       "  'chinese': 80,\n",
       "  'english': 66,\n",
       "  'math': 98,\n",
       "  'history': 77,\n",
       "  'health': 60},\n",
       " {'name': 'Student41',\n",
       "  'chinese': 71,\n",
       "  'english': 83,\n",
       "  'math': 96,\n",
       "  'history': 69,\n",
       "  'health': 86},\n",
       " {'name': 'Student42',\n",
       "  'chinese': 90,\n",
       "  'english': 69,\n",
       "  'math': 81,\n",
       "  'history': 60,\n",
       "  'health': 96},\n",
       " {'name': 'Student43',\n",
       "  'chinese': 81,\n",
       "  'english': 90,\n",
       "  'math': 86,\n",
       "  'history': 67,\n",
       "  'health': 69},\n",
       " {'name': 'Student44',\n",
       "  'chinese': 81,\n",
       "  'english': 85,\n",
       "  'math': 69,\n",
       "  'history': 87,\n",
       "  'health': 86},\n",
       " {'name': 'Student45',\n",
       "  'chinese': 93,\n",
       "  'english': 94,\n",
       "  'math': 64,\n",
       "  'history': 78,\n",
       "  'health': 100},\n",
       " {'name': 'Student46',\n",
       "  'chinese': 90,\n",
       "  'english': 91,\n",
       "  'math': 63,\n",
       "  'history': 83,\n",
       "  'health': 60},\n",
       " {'name': 'Student47',\n",
       "  'chinese': 61,\n",
       "  'english': 97,\n",
       "  'math': 77,\n",
       "  'history': 95,\n",
       "  'health': 86},\n",
       " {'name': 'Student48',\n",
       "  'chinese': 84,\n",
       "  'english': 86,\n",
       "  'math': 76,\n",
       "  'history': 63,\n",
       "  'health': 60},\n",
       " {'name': 'Student49',\n",
       "  'chinese': 67,\n",
       "  'english': 89,\n",
       "  'math': 68,\n",
       "  'history': 64,\n",
       "  'health': 83},\n",
       " {'name': 'Student50',\n",
       "  'chinese': 70,\n",
       "  'english': 85,\n",
       "  'math': 95,\n",
       "  'history': 82,\n",
       "  'health': 64}]"
      ]
     },
     "execution_count": 18,
     "metadata": {},
     "output_type": "execute_result"
    }
   ],
   "source": [
    "import random\n",
    "students=[]\n",
    "for i in range(1,51):\n",
    "    students.append(\n",
    "        {\n",
    "        'name': f\"Student{i}\",\n",
    "        'chinese': random.randint(60, 100),\n",
    "        'english': random.randint(60, 100),\n",
    "        'math': random.randint(60, 100),\n",
    "        'history': random.randint(60, 100),\n",
    "        'health': random.randint(60, 100)\n",
    "        }\n",
    "    )\n",
    "print(type(students))\n",
    "students"
   ]
  },
  {
   "cell_type": "code",
   "execution_count": 19,
   "metadata": {},
   "outputs": [
    {
     "name": "stdout",
     "output_type": "stream",
     "text": [
      "{'name': 'Student1', 'chinese': 99, 'english': 77, 'math': 72, 'history': 87, 'health': 76}\n",
      "{'name': 'Student2', 'chinese': 81, 'english': 89, 'math': 84, 'history': 87, 'health': 96}\n",
      "{'name': 'Student3', 'chinese': 84, 'english': 82, 'math': 98, 'history': 75, 'health': 82}\n",
      "{'name': 'Student4', 'chinese': 98, 'english': 78, 'math': 71, 'history': 99, 'health': 80}\n",
      "{'name': 'Student5', 'chinese': 96, 'english': 69, 'math': 65, 'history': 99, 'health': 89}\n",
      "{'name': 'Student6', 'chinese': 74, 'english': 98, 'math': 97, 'history': 76, 'health': 85}\n",
      "{'name': 'Student7', 'chinese': 80, 'english': 60, 'math': 74, 'history': 60, 'health': 84}\n",
      "{'name': 'Student8', 'chinese': 89, 'english': 61, 'math': 83, 'history': 81, 'health': 99}\n",
      "{'name': 'Student9', 'chinese': 95, 'english': 65, 'math': 89, 'history': 95, 'health': 65}\n",
      "{'name': 'Student10', 'chinese': 79, 'english': 69, 'math': 63, 'history': 71, 'health': 66}\n",
      "{'name': 'Student11', 'chinese': 85, 'english': 95, 'math': 92, 'history': 70, 'health': 70}\n",
      "{'name': 'Student12', 'chinese': 76, 'english': 60, 'math': 81, 'history': 77, 'health': 77}\n",
      "{'name': 'Student13', 'chinese': 99, 'english': 69, 'math': 64, 'history': 78, 'health': 62}\n",
      "{'name': 'Student14', 'chinese': 99, 'english': 75, 'math': 97, 'history': 61, 'health': 75}\n",
      "{'name': 'Student15', 'chinese': 60, 'english': 99, 'math': 91, 'history': 69, 'health': 88}\n",
      "{'name': 'Student16', 'chinese': 84, 'english': 67, 'math': 71, 'history': 97, 'health': 98}\n",
      "{'name': 'Student17', 'chinese': 61, 'english': 80, 'math': 98, 'history': 96, 'health': 66}\n",
      "{'name': 'Student18', 'chinese': 82, 'english': 77, 'math': 80, 'history': 63, 'health': 88}\n",
      "{'name': 'Student19', 'chinese': 69, 'english': 88, 'math': 77, 'history': 65, 'health': 64}\n",
      "{'name': 'Student20', 'chinese': 74, 'english': 68, 'math': 84, 'history': 95, 'health': 97}\n",
      "{'name': 'Student21', 'chinese': 90, 'english': 96, 'math': 88, 'history': 85, 'health': 99}\n",
      "{'name': 'Student22', 'chinese': 77, 'english': 99, 'math': 61, 'history': 74, 'health': 65}\n",
      "{'name': 'Student23', 'chinese': 90, 'english': 82, 'math': 84, 'history': 100, 'health': 94}\n",
      "{'name': 'Student24', 'chinese': 76, 'english': 78, 'math': 96, 'history': 80, 'health': 88}\n",
      "{'name': 'Student25', 'chinese': 61, 'english': 66, 'math': 81, 'history': 67, 'health': 88}\n",
      "{'name': 'Student26', 'chinese': 62, 'english': 72, 'math': 92, 'history': 72, 'health': 60}\n",
      "{'name': 'Student27', 'chinese': 100, 'english': 60, 'math': 100, 'history': 66, 'health': 97}\n",
      "{'name': 'Student28', 'chinese': 93, 'english': 97, 'math': 60, 'history': 64, 'health': 64}\n",
      "{'name': 'Student29', 'chinese': 77, 'english': 97, 'math': 64, 'history': 60, 'health': 82}\n",
      "{'name': 'Student30', 'chinese': 92, 'english': 82, 'math': 80, 'history': 81, 'health': 84}\n",
      "{'name': 'Student31', 'chinese': 77, 'english': 79, 'math': 73, 'history': 63, 'health': 99}\n",
      "{'name': 'Student32', 'chinese': 75, 'english': 87, 'math': 80, 'history': 98, 'health': 96}\n",
      "{'name': 'Student33', 'chinese': 67, 'english': 90, 'math': 84, 'history': 62, 'health': 75}\n",
      "{'name': 'Student34', 'chinese': 100, 'english': 80, 'math': 95, 'history': 99, 'health': 93}\n",
      "{'name': 'Student35', 'chinese': 89, 'english': 72, 'math': 61, 'history': 75, 'health': 77}\n",
      "{'name': 'Student36', 'chinese': 99, 'english': 70, 'math': 77, 'history': 61, 'health': 83}\n",
      "{'name': 'Student37', 'chinese': 67, 'english': 69, 'math': 91, 'history': 66, 'health': 85}\n",
      "{'name': 'Student38', 'chinese': 98, 'english': 60, 'math': 74, 'history': 82, 'health': 60}\n",
      "{'name': 'Student39', 'chinese': 68, 'english': 91, 'math': 73, 'history': 77, 'health': 78}\n",
      "{'name': 'Student40', 'chinese': 80, 'english': 66, 'math': 98, 'history': 77, 'health': 60}\n",
      "{'name': 'Student41', 'chinese': 71, 'english': 83, 'math': 96, 'history': 69, 'health': 86}\n",
      "{'name': 'Student42', 'chinese': 90, 'english': 69, 'math': 81, 'history': 60, 'health': 96}\n",
      "{'name': 'Student43', 'chinese': 81, 'english': 90, 'math': 86, 'history': 67, 'health': 69}\n",
      "{'name': 'Student44', 'chinese': 81, 'english': 85, 'math': 69, 'history': 87, 'health': 86}\n",
      "{'name': 'Student45', 'chinese': 93, 'english': 94, 'math': 64, 'history': 78, 'health': 100}\n",
      "{'name': 'Student46', 'chinese': 90, 'english': 91, 'math': 63, 'history': 83, 'health': 60}\n",
      "{'name': 'Student47', 'chinese': 61, 'english': 97, 'math': 77, 'history': 95, 'health': 86}\n",
      "{'name': 'Student48', 'chinese': 84, 'english': 86, 'math': 76, 'history': 63, 'health': 60}\n",
      "{'name': 'Student49', 'chinese': 67, 'english': 89, 'math': 68, 'history': 64, 'health': 83}\n",
      "{'name': 'Student50', 'chinese': 70, 'english': 85, 'math': 95, 'history': 82, 'health': 64}\n"
     ]
    }
   ],
   "source": [
    "for scores in students:\n",
    "    print(scores)"
   ]
  }
 ],
 "metadata": {
  "kernelspec": {
   "display_name": "base",
   "language": "python",
   "name": "python3"
  },
  "language_info": {
   "codemirror_mode": {
    "name": "ipython",
    "version": 3
   },
   "file_extension": ".py",
   "mimetype": "text/x-python",
   "name": "python",
   "nbconvert_exporter": "python",
   "pygments_lexer": "ipython3",
   "version": "3.12.2"
  }
 },
 "nbformat": 4,
 "nbformat_minor": 2
}
