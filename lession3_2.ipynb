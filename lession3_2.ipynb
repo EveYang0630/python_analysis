{
 "cells": [
  {
   "cell_type": "markdown",
   "metadata": {},
   "source": [
    "_*My Note Place*_  \n",
    "\n",
    "函式\"dict\" fountion (dictionary)"
   ]
  },
  {
   "cell_type": "code",
   "execution_count": 37,
   "metadata": {},
   "outputs": [
    {
     "data": {
      "text/plain": [
       "{'name': 'Eve Yang', 'age': 30, 'city': 'Taipei'}"
      ]
     },
     "execution_count": 37,
     "metadata": {},
     "output_type": "execute_result"
    }
   ],
   "source": [
    "p1={'name':'Eve Yang','age':30,'city':'Taipei'}\n",
    "p1"
   ]
  },
  {
   "cell_type": "code",
   "execution_count": 38,
   "metadata": {},
   "outputs": [
    {
     "name": "stdout",
     "output_type": "stream",
     "text": [
      "Eve Yang\n",
      "30\n"
     ]
    }
   ],
   "source": [
    "print(p1['name'])\n",
    "print(p1.get('age'))"
   ]
  },
  {
   "cell_type": "code",
   "execution_count": 39,
   "metadata": {},
   "outputs": [
    {
     "data": {
      "text/plain": [
       "30"
      ]
     },
     "execution_count": 39,
     "metadata": {},
     "output_type": "execute_result"
    }
   ],
   "source": [
    "del p1['city']\n",
    "p1.pop('age')"
   ]
  },
  {
   "cell_type": "code",
   "execution_count": 40,
   "metadata": {},
   "outputs": [],
   "source": [
    "del p1"
   ]
  },
  {
   "cell_type": "markdown",
   "metadata": {},
   "source": [
    "_*My Note Place*_  \n",
    "\n",
    "Mapping,映射  \n",
    "1   如何依序取出'串列資料'和'映射資料'的元素值  \n",
    "2   for_in迴圈"
   ]
  },
  {
   "cell_type": "markdown",
   "metadata": {},
   "source": [
    "_*list的範例*_"
   ]
  },
  {
   "cell_type": "code",
   "execution_count": 41,
   "metadata": {},
   "outputs": [
    {
     "name": "stdout",
     "output_type": "stream",
     "text": [
      "蘋果\n",
      "香蕉\n",
      "橘子\n"
     ]
    }
   ],
   "source": [
    "fruits=['蘋果','香蕉','橘子']\n",
    "# 迴圈： for  自訂變數fruit  in  ['蘋果','香蕉','橘子']，下方程式碼縮排一格\n",
    "for fruit in fruits:\n",
    "    print(fruit)"
   ]
  },
  {
   "cell_type": "code",
   "execution_count": 42,
   "metadata": {},
   "outputs": [
    {
     "name": "stdout",
     "output_type": "stream",
     "text": [
      "(0, '蘋果')\n",
      "(1, '香蕉')\n",
      "(2, '橘子')\n"
     ]
    }
   ],
   "source": [
    "for fruit in enumerate(fruits):\n",
    "    print(fruit)"
   ]
  },
  {
   "cell_type": "code",
   "execution_count": 43,
   "metadata": {},
   "outputs": [
    {
     "name": "stdout",
     "output_type": "stream",
     "text": [
      "0 ⇄ 蘋果\n",
      "===========\n",
      "1 ⇄ 香蕉\n",
      "===========\n",
      "2 ⇄ 橘子\n",
      "===========\n"
     ]
    }
   ],
   "source": [
    "for index,fruit in enumerate(fruits):\n",
    "    print(index,fruit,sep=\" ⇄ \",end=\"\\n===========\\n\")"
   ]
  },
  {
   "cell_type": "markdown",
   "metadata": {},
   "source": [
    "_*dict的範例*_"
   ]
  },
  {
   "cell_type": "code",
   "execution_count": 44,
   "metadata": {},
   "outputs": [
    {
     "data": {
      "text/plain": [
       "{'Taipei': '台北',\n",
       " 'New Taipei': '新北市',\n",
       " 'Taoyuan': '桃園',\n",
       " 'Taichung': '台中',\n",
       " 'Tainan': '台南',\n",
       " 'Kaohsiung': '高雄',\n",
       " 'Keelung': '基隆',\n",
       " 'Hsinchu': '新竹',\n",
       " 'Chiayi': '嘉義',\n",
       " 'Hualien': '花蓮'}"
      ]
     },
     "execution_count": 44,
     "metadata": {},
     "output_type": "execute_result"
    }
   ],
   "source": [
    "cities = {\n",
    "    'Taipei': '台北',\n",
    "    'New Taipei': '新北市',\n",
    "    'Taoyuan': '桃園',\n",
    "    'Taichung': '台中',\n",
    "    'Tainan': '台南',\n",
    "    'Kaohsiung': '高雄',\n",
    "    'Keelung': '基隆',\n",
    "    'Hsinchu': '新竹',\n",
    "    'Chiayi': '嘉義',\n",
    "    'Hualien': '花蓮'\n",
    "}\n",
    "cities"
   ]
  },
  {
   "cell_type": "code",
   "execution_count": 45,
   "metadata": {},
   "outputs": [
    {
     "name": "stdout",
     "output_type": "stream",
     "text": [
      "Taipei: 台北\n",
      "New Taipei: 新北市\n",
      "Taoyuan: 桃園\n",
      "Taichung: 台中\n",
      "Tainan: 台南\n",
      "Kaohsiung: 高雄\n",
      "Keelung: 基隆\n",
      "Hsinchu: 新竹\n",
      "Chiayi: 嘉義\n",
      "Hualien: 花蓮\n"
     ]
    }
   ],
   "source": [
    "for key, value in cities.items():\n",
    "    print(f\"{key}: {value}\")\n",
    "#實體名稱.item()，字典的實體方法，用以返還字典中的所有鍵值配對元素\n",
    "#字串插補f，f\"XXXXX{key}XXXXX{Value}\""
   ]
  },
  {
   "cell_type": "code",
   "execution_count": 46,
   "metadata": {},
   "outputs": [],
   "source": [
    "#一個學生(student)的dictionary，格式如下：\n",
    "#{'name':'value','chinese':'78','english':98,'math':67,'history':79,'health':86}\n",
    "#幫我建立50個學生的成績(亂數)list，不要用迴圈"
   ]
  },
  {
   "cell_type": "code",
   "execution_count": null,
   "metadata": {
    "vscode": {
     "languageId": "coffeescript"
    }
   },
   "outputs": [],
   "source": [
    "#import random\n",
    "\n",
    "#students = []\n",
    "#for i in range(50):\n",
    "#    student = {\n",
    "#        'name': f'Student{i+1}',\n",
    "#        'chinese': random.randint(60, 100),\n",
    "#        'english': random.randint(60, 100),\n",
    "#        'math': random.randint(60, 100),\n",
    "#        'history': random.randint(60, 100),\n",
    "#        'health': random.randint(60, 100)\n",
    "#    }\n",
    "#    students.append(student)\n"
   ]
  },
  {
   "cell_type": "code",
   "execution_count": 47,
   "metadata": {},
   "outputs": [
    {
     "name": "stdout",
     "output_type": "stream",
     "text": [
      "<class 'list'>\n"
     ]
    },
    {
     "data": {
      "text/plain": [
       "[{'name': 'Student1',\n",
       "  'chinese': 96,\n",
       "  'english': 69,\n",
       "  'math': 77,\n",
       "  'history': 84,\n",
       "  'health': 99},\n",
       " {'name': 'Student2',\n",
       "  'chinese': 97,\n",
       "  'english': 75,\n",
       "  'math': 93,\n",
       "  'history': 92,\n",
       "  'health': 61},\n",
       " {'name': 'Student3',\n",
       "  'chinese': 72,\n",
       "  'english': 64,\n",
       "  'math': 68,\n",
       "  'history': 100,\n",
       "  'health': 82},\n",
       " {'name': 'Student4',\n",
       "  'chinese': 72,\n",
       "  'english': 68,\n",
       "  'math': 64,\n",
       "  'history': 94,\n",
       "  'health': 72},\n",
       " {'name': 'Student5',\n",
       "  'chinese': 73,\n",
       "  'english': 73,\n",
       "  'math': 85,\n",
       "  'history': 77,\n",
       "  'health': 93},\n",
       " {'name': 'Student6',\n",
       "  'chinese': 61,\n",
       "  'english': 75,\n",
       "  'math': 77,\n",
       "  'history': 86,\n",
       "  'health': 67},\n",
       " {'name': 'Student7',\n",
       "  'chinese': 62,\n",
       "  'english': 94,\n",
       "  'math': 72,\n",
       "  'history': 98,\n",
       "  'health': 88},\n",
       " {'name': 'Student8',\n",
       "  'chinese': 83,\n",
       "  'english': 67,\n",
       "  'math': 65,\n",
       "  'history': 90,\n",
       "  'health': 71},\n",
       " {'name': 'Student9',\n",
       "  'chinese': 71,\n",
       "  'english': 66,\n",
       "  'math': 87,\n",
       "  'history': 77,\n",
       "  'health': 65},\n",
       " {'name': 'Student10',\n",
       "  'chinese': 62,\n",
       "  'english': 98,\n",
       "  'math': 89,\n",
       "  'history': 100,\n",
       "  'health': 83},\n",
       " {'name': 'Student11',\n",
       "  'chinese': 92,\n",
       "  'english': 70,\n",
       "  'math': 77,\n",
       "  'history': 88,\n",
       "  'health': 78},\n",
       " {'name': 'Student12',\n",
       "  'chinese': 98,\n",
       "  'english': 94,\n",
       "  'math': 62,\n",
       "  'history': 86,\n",
       "  'health': 68},\n",
       " {'name': 'Student13',\n",
       "  'chinese': 61,\n",
       "  'english': 86,\n",
       "  'math': 85,\n",
       "  'history': 70,\n",
       "  'health': 94},\n",
       " {'name': 'Student14',\n",
       "  'chinese': 88,\n",
       "  'english': 82,\n",
       "  'math': 78,\n",
       "  'history': 65,\n",
       "  'health': 80},\n",
       " {'name': 'Student15',\n",
       "  'chinese': 89,\n",
       "  'english': 66,\n",
       "  'math': 68,\n",
       "  'history': 90,\n",
       "  'health': 91},\n",
       " {'name': 'Student16',\n",
       "  'chinese': 64,\n",
       "  'english': 91,\n",
       "  'math': 94,\n",
       "  'history': 99,\n",
       "  'health': 67},\n",
       " {'name': 'Student17',\n",
       "  'chinese': 64,\n",
       "  'english': 66,\n",
       "  'math': 61,\n",
       "  'history': 94,\n",
       "  'health': 75},\n",
       " {'name': 'Student18',\n",
       "  'chinese': 85,\n",
       "  'english': 93,\n",
       "  'math': 78,\n",
       "  'history': 81,\n",
       "  'health': 66},\n",
       " {'name': 'Student19',\n",
       "  'chinese': 98,\n",
       "  'english': 60,\n",
       "  'math': 66,\n",
       "  'history': 90,\n",
       "  'health': 90},\n",
       " {'name': 'Student20',\n",
       "  'chinese': 87,\n",
       "  'english': 82,\n",
       "  'math': 64,\n",
       "  'history': 84,\n",
       "  'health': 100},\n",
       " {'name': 'Student21',\n",
       "  'chinese': 87,\n",
       "  'english': 91,\n",
       "  'math': 90,\n",
       "  'history': 92,\n",
       "  'health': 68},\n",
       " {'name': 'Student22',\n",
       "  'chinese': 64,\n",
       "  'english': 89,\n",
       "  'math': 60,\n",
       "  'history': 89,\n",
       "  'health': 81},\n",
       " {'name': 'Student23',\n",
       "  'chinese': 76,\n",
       "  'english': 60,\n",
       "  'math': 83,\n",
       "  'history': 73,\n",
       "  'health': 66},\n",
       " {'name': 'Student24',\n",
       "  'chinese': 74,\n",
       "  'english': 64,\n",
       "  'math': 67,\n",
       "  'history': 60,\n",
       "  'health': 71},\n",
       " {'name': 'Student25',\n",
       "  'chinese': 68,\n",
       "  'english': 91,\n",
       "  'math': 93,\n",
       "  'history': 61,\n",
       "  'health': 68},\n",
       " {'name': 'Student26',\n",
       "  'chinese': 91,\n",
       "  'english': 83,\n",
       "  'math': 68,\n",
       "  'history': 63,\n",
       "  'health': 90},\n",
       " {'name': 'Student27',\n",
       "  'chinese': 73,\n",
       "  'english': 74,\n",
       "  'math': 100,\n",
       "  'history': 86,\n",
       "  'health': 61},\n",
       " {'name': 'Student28',\n",
       "  'chinese': 88,\n",
       "  'english': 65,\n",
       "  'math': 69,\n",
       "  'history': 99,\n",
       "  'health': 91},\n",
       " {'name': 'Student29',\n",
       "  'chinese': 69,\n",
       "  'english': 89,\n",
       "  'math': 98,\n",
       "  'history': 92,\n",
       "  'health': 90},\n",
       " {'name': 'Student30',\n",
       "  'chinese': 87,\n",
       "  'english': 93,\n",
       "  'math': 90,\n",
       "  'history': 92,\n",
       "  'health': 72},\n",
       " {'name': 'Student31',\n",
       "  'chinese': 80,\n",
       "  'english': 100,\n",
       "  'math': 100,\n",
       "  'history': 81,\n",
       "  'health': 70},\n",
       " {'name': 'Student32',\n",
       "  'chinese': 97,\n",
       "  'english': 90,\n",
       "  'math': 65,\n",
       "  'history': 99,\n",
       "  'health': 87},\n",
       " {'name': 'Student33',\n",
       "  'chinese': 93,\n",
       "  'english': 68,\n",
       "  'math': 90,\n",
       "  'history': 97,\n",
       "  'health': 71},\n",
       " {'name': 'Student34',\n",
       "  'chinese': 77,\n",
       "  'english': 61,\n",
       "  'math': 63,\n",
       "  'history': 100,\n",
       "  'health': 83},\n",
       " {'name': 'Student35',\n",
       "  'chinese': 72,\n",
       "  'english': 68,\n",
       "  'math': 84,\n",
       "  'history': 88,\n",
       "  'health': 69},\n",
       " {'name': 'Student36',\n",
       "  'chinese': 70,\n",
       "  'english': 85,\n",
       "  'math': 99,\n",
       "  'history': 60,\n",
       "  'health': 66},\n",
       " {'name': 'Student37',\n",
       "  'chinese': 96,\n",
       "  'english': 66,\n",
       "  'math': 93,\n",
       "  'history': 84,\n",
       "  'health': 73},\n",
       " {'name': 'Student38',\n",
       "  'chinese': 62,\n",
       "  'english': 94,\n",
       "  'math': 95,\n",
       "  'history': 85,\n",
       "  'health': 95},\n",
       " {'name': 'Student39',\n",
       "  'chinese': 73,\n",
       "  'english': 61,\n",
       "  'math': 72,\n",
       "  'history': 90,\n",
       "  'health': 96},\n",
       " {'name': 'Student40',\n",
       "  'chinese': 94,\n",
       "  'english': 92,\n",
       "  'math': 77,\n",
       "  'history': 71,\n",
       "  'health': 89},\n",
       " {'name': 'Student41',\n",
       "  'chinese': 87,\n",
       "  'english': 63,\n",
       "  'math': 68,\n",
       "  'history': 61,\n",
       "  'health': 86},\n",
       " {'name': 'Student42',\n",
       "  'chinese': 67,\n",
       "  'english': 73,\n",
       "  'math': 76,\n",
       "  'history': 88,\n",
       "  'health': 69},\n",
       " {'name': 'Student43',\n",
       "  'chinese': 66,\n",
       "  'english': 96,\n",
       "  'math': 87,\n",
       "  'history': 86,\n",
       "  'health': 82},\n",
       " {'name': 'Student44',\n",
       "  'chinese': 61,\n",
       "  'english': 82,\n",
       "  'math': 60,\n",
       "  'history': 99,\n",
       "  'health': 79},\n",
       " {'name': 'Student45',\n",
       "  'chinese': 73,\n",
       "  'english': 89,\n",
       "  'math': 80,\n",
       "  'history': 90,\n",
       "  'health': 80},\n",
       " {'name': 'Student46',\n",
       "  'chinese': 61,\n",
       "  'english': 96,\n",
       "  'math': 73,\n",
       "  'history': 94,\n",
       "  'health': 90},\n",
       " {'name': 'Student47',\n",
       "  'chinese': 93,\n",
       "  'english': 76,\n",
       "  'math': 90,\n",
       "  'history': 94,\n",
       "  'health': 76},\n",
       " {'name': 'Student48',\n",
       "  'chinese': 89,\n",
       "  'english': 63,\n",
       "  'math': 72,\n",
       "  'history': 71,\n",
       "  'health': 81},\n",
       " {'name': 'Student49',\n",
       "  'chinese': 81,\n",
       "  'english': 78,\n",
       "  'math': 80,\n",
       "  'history': 92,\n",
       "  'health': 85},\n",
       " {'name': 'Student50',\n",
       "  'chinese': 63,\n",
       "  'english': 100,\n",
       "  'math': 77,\n",
       "  'history': 91,\n",
       "  'health': 78}]"
      ]
     },
     "execution_count": 47,
     "metadata": {},
     "output_type": "execute_result"
    }
   ],
   "source": [
    "import random\n",
    "students=[]\n",
    "for i in range(1,51):\n",
    "    students.append(\n",
    "        {\n",
    "        'name': f\"Student{i}\",\n",
    "        'chinese': random.randint(60, 100),\n",
    "        'english': random.randint(60, 100),\n",
    "        'math': random.randint(60, 100),\n",
    "        'history': random.randint(60, 100),\n",
    "        'health': random.randint(60, 100)\n",
    "        }\n",
    "    )\n",
    "print(type(students))\n",
    "students"
   ]
  },
  {
   "cell_type": "code",
   "execution_count": 48,
   "metadata": {},
   "outputs": [
    {
     "name": "stdout",
     "output_type": "stream",
     "text": [
      "{'name': 'Student1', 'chinese': 96, 'english': 69, 'math': 77, 'history': 84, 'health': 99}\n",
      "{'name': 'Student2', 'chinese': 97, 'english': 75, 'math': 93, 'history': 92, 'health': 61}\n",
      "{'name': 'Student3', 'chinese': 72, 'english': 64, 'math': 68, 'history': 100, 'health': 82}\n",
      "{'name': 'Student4', 'chinese': 72, 'english': 68, 'math': 64, 'history': 94, 'health': 72}\n",
      "{'name': 'Student5', 'chinese': 73, 'english': 73, 'math': 85, 'history': 77, 'health': 93}\n",
      "{'name': 'Student6', 'chinese': 61, 'english': 75, 'math': 77, 'history': 86, 'health': 67}\n",
      "{'name': 'Student7', 'chinese': 62, 'english': 94, 'math': 72, 'history': 98, 'health': 88}\n",
      "{'name': 'Student8', 'chinese': 83, 'english': 67, 'math': 65, 'history': 90, 'health': 71}\n",
      "{'name': 'Student9', 'chinese': 71, 'english': 66, 'math': 87, 'history': 77, 'health': 65}\n",
      "{'name': 'Student10', 'chinese': 62, 'english': 98, 'math': 89, 'history': 100, 'health': 83}\n",
      "{'name': 'Student11', 'chinese': 92, 'english': 70, 'math': 77, 'history': 88, 'health': 78}\n",
      "{'name': 'Student12', 'chinese': 98, 'english': 94, 'math': 62, 'history': 86, 'health': 68}\n",
      "{'name': 'Student13', 'chinese': 61, 'english': 86, 'math': 85, 'history': 70, 'health': 94}\n",
      "{'name': 'Student14', 'chinese': 88, 'english': 82, 'math': 78, 'history': 65, 'health': 80}\n",
      "{'name': 'Student15', 'chinese': 89, 'english': 66, 'math': 68, 'history': 90, 'health': 91}\n",
      "{'name': 'Student16', 'chinese': 64, 'english': 91, 'math': 94, 'history': 99, 'health': 67}\n",
      "{'name': 'Student17', 'chinese': 64, 'english': 66, 'math': 61, 'history': 94, 'health': 75}\n",
      "{'name': 'Student18', 'chinese': 85, 'english': 93, 'math': 78, 'history': 81, 'health': 66}\n",
      "{'name': 'Student19', 'chinese': 98, 'english': 60, 'math': 66, 'history': 90, 'health': 90}\n",
      "{'name': 'Student20', 'chinese': 87, 'english': 82, 'math': 64, 'history': 84, 'health': 100}\n",
      "{'name': 'Student21', 'chinese': 87, 'english': 91, 'math': 90, 'history': 92, 'health': 68}\n",
      "{'name': 'Student22', 'chinese': 64, 'english': 89, 'math': 60, 'history': 89, 'health': 81}\n",
      "{'name': 'Student23', 'chinese': 76, 'english': 60, 'math': 83, 'history': 73, 'health': 66}\n",
      "{'name': 'Student24', 'chinese': 74, 'english': 64, 'math': 67, 'history': 60, 'health': 71}\n",
      "{'name': 'Student25', 'chinese': 68, 'english': 91, 'math': 93, 'history': 61, 'health': 68}\n",
      "{'name': 'Student26', 'chinese': 91, 'english': 83, 'math': 68, 'history': 63, 'health': 90}\n",
      "{'name': 'Student27', 'chinese': 73, 'english': 74, 'math': 100, 'history': 86, 'health': 61}\n",
      "{'name': 'Student28', 'chinese': 88, 'english': 65, 'math': 69, 'history': 99, 'health': 91}\n",
      "{'name': 'Student29', 'chinese': 69, 'english': 89, 'math': 98, 'history': 92, 'health': 90}\n",
      "{'name': 'Student30', 'chinese': 87, 'english': 93, 'math': 90, 'history': 92, 'health': 72}\n",
      "{'name': 'Student31', 'chinese': 80, 'english': 100, 'math': 100, 'history': 81, 'health': 70}\n",
      "{'name': 'Student32', 'chinese': 97, 'english': 90, 'math': 65, 'history': 99, 'health': 87}\n",
      "{'name': 'Student33', 'chinese': 93, 'english': 68, 'math': 90, 'history': 97, 'health': 71}\n",
      "{'name': 'Student34', 'chinese': 77, 'english': 61, 'math': 63, 'history': 100, 'health': 83}\n",
      "{'name': 'Student35', 'chinese': 72, 'english': 68, 'math': 84, 'history': 88, 'health': 69}\n",
      "{'name': 'Student36', 'chinese': 70, 'english': 85, 'math': 99, 'history': 60, 'health': 66}\n",
      "{'name': 'Student37', 'chinese': 96, 'english': 66, 'math': 93, 'history': 84, 'health': 73}\n",
      "{'name': 'Student38', 'chinese': 62, 'english': 94, 'math': 95, 'history': 85, 'health': 95}\n",
      "{'name': 'Student39', 'chinese': 73, 'english': 61, 'math': 72, 'history': 90, 'health': 96}\n",
      "{'name': 'Student40', 'chinese': 94, 'english': 92, 'math': 77, 'history': 71, 'health': 89}\n",
      "{'name': 'Student41', 'chinese': 87, 'english': 63, 'math': 68, 'history': 61, 'health': 86}\n",
      "{'name': 'Student42', 'chinese': 67, 'english': 73, 'math': 76, 'history': 88, 'health': 69}\n",
      "{'name': 'Student43', 'chinese': 66, 'english': 96, 'math': 87, 'history': 86, 'health': 82}\n",
      "{'name': 'Student44', 'chinese': 61, 'english': 82, 'math': 60, 'history': 99, 'health': 79}\n",
      "{'name': 'Student45', 'chinese': 73, 'english': 89, 'math': 80, 'history': 90, 'health': 80}\n",
      "{'name': 'Student46', 'chinese': 61, 'english': 96, 'math': 73, 'history': 94, 'health': 90}\n",
      "{'name': 'Student47', 'chinese': 93, 'english': 76, 'math': 90, 'history': 94, 'health': 76}\n",
      "{'name': 'Student48', 'chinese': 89, 'english': 63, 'math': 72, 'history': 71, 'health': 81}\n",
      "{'name': 'Student49', 'chinese': 81, 'english': 78, 'math': 80, 'history': 92, 'health': 85}\n",
      "{'name': 'Student50', 'chinese': 63, 'english': 100, 'math': 77, 'history': 91, 'health': 78}\n"
     ]
    }
   ],
   "source": [
    "for scores in students:\n",
    "    print(scores)"
   ]
  },
  {
   "cell_type": "code",
   "execution_count": 49,
   "metadata": {},
   "outputs": [
    {
     "name": "stdout",
     "output_type": "stream",
     "text": [
      "姓名:Student1, 國文:96, 英文:69, 數學:77, 歷史:84, 健康:99\n",
      "姓名:Student2, 國文:97, 英文:75, 數學:93, 歷史:92, 健康:61\n",
      "姓名:Student3, 國文:72, 英文:64, 數學:68, 歷史:100, 健康:82\n",
      "姓名:Student4, 國文:72, 英文:68, 數學:64, 歷史:94, 健康:72\n",
      "姓名:Student5, 國文:73, 英文:73, 數學:85, 歷史:77, 健康:93\n",
      "姓名:Student6, 國文:61, 英文:75, 數學:77, 歷史:86, 健康:67\n",
      "姓名:Student7, 國文:62, 英文:94, 數學:72, 歷史:98, 健康:88\n",
      "姓名:Student8, 國文:83, 英文:67, 數學:65, 歷史:90, 健康:71\n",
      "姓名:Student9, 國文:71, 英文:66, 數學:87, 歷史:77, 健康:65\n",
      "姓名:Student10, 國文:62, 英文:98, 數學:89, 歷史:100, 健康:83\n",
      "姓名:Student11, 國文:92, 英文:70, 數學:77, 歷史:88, 健康:78\n",
      "姓名:Student12, 國文:98, 英文:94, 數學:62, 歷史:86, 健康:68\n",
      "姓名:Student13, 國文:61, 英文:86, 數學:85, 歷史:70, 健康:94\n",
      "姓名:Student14, 國文:88, 英文:82, 數學:78, 歷史:65, 健康:80\n",
      "姓名:Student15, 國文:89, 英文:66, 數學:68, 歷史:90, 健康:91\n",
      "姓名:Student16, 國文:64, 英文:91, 數學:94, 歷史:99, 健康:67\n",
      "姓名:Student17, 國文:64, 英文:66, 數學:61, 歷史:94, 健康:75\n",
      "姓名:Student18, 國文:85, 英文:93, 數學:78, 歷史:81, 健康:66\n",
      "姓名:Student19, 國文:98, 英文:60, 數學:66, 歷史:90, 健康:90\n",
      "姓名:Student20, 國文:87, 英文:82, 數學:64, 歷史:84, 健康:100\n",
      "姓名:Student21, 國文:87, 英文:91, 數學:90, 歷史:92, 健康:68\n",
      "姓名:Student22, 國文:64, 英文:89, 數學:60, 歷史:89, 健康:81\n",
      "姓名:Student23, 國文:76, 英文:60, 數學:83, 歷史:73, 健康:66\n",
      "姓名:Student24, 國文:74, 英文:64, 數學:67, 歷史:60, 健康:71\n",
      "姓名:Student25, 國文:68, 英文:91, 數學:93, 歷史:61, 健康:68\n",
      "姓名:Student26, 國文:91, 英文:83, 數學:68, 歷史:63, 健康:90\n",
      "姓名:Student27, 國文:73, 英文:74, 數學:100, 歷史:86, 健康:61\n",
      "姓名:Student28, 國文:88, 英文:65, 數學:69, 歷史:99, 健康:91\n",
      "姓名:Student29, 國文:69, 英文:89, 數學:98, 歷史:92, 健康:90\n",
      "姓名:Student30, 國文:87, 英文:93, 數學:90, 歷史:92, 健康:72\n",
      "姓名:Student31, 國文:80, 英文:100, 數學:100, 歷史:81, 健康:70\n",
      "姓名:Student32, 國文:97, 英文:90, 數學:65, 歷史:99, 健康:87\n",
      "姓名:Student33, 國文:93, 英文:68, 數學:90, 歷史:97, 健康:71\n",
      "姓名:Student34, 國文:77, 英文:61, 數學:63, 歷史:100, 健康:83\n",
      "姓名:Student35, 國文:72, 英文:68, 數學:84, 歷史:88, 健康:69\n",
      "姓名:Student36, 國文:70, 英文:85, 數學:99, 歷史:60, 健康:66\n",
      "姓名:Student37, 國文:96, 英文:66, 數學:93, 歷史:84, 健康:73\n",
      "姓名:Student38, 國文:62, 英文:94, 數學:95, 歷史:85, 健康:95\n",
      "姓名:Student39, 國文:73, 英文:61, 數學:72, 歷史:90, 健康:96\n",
      "姓名:Student40, 國文:94, 英文:92, 數學:77, 歷史:71, 健康:89\n",
      "姓名:Student41, 國文:87, 英文:63, 數學:68, 歷史:61, 健康:86\n",
      "姓名:Student42, 國文:67, 英文:73, 數學:76, 歷史:88, 健康:69\n",
      "姓名:Student43, 國文:66, 英文:96, 數學:87, 歷史:86, 健康:82\n",
      "姓名:Student44, 國文:61, 英文:82, 數學:60, 歷史:99, 健康:79\n",
      "姓名:Student45, 國文:73, 英文:89, 數學:80, 歷史:90, 健康:80\n",
      "姓名:Student46, 國文:61, 英文:96, 數學:73, 歷史:94, 健康:90\n",
      "姓名:Student47, 國文:93, 英文:76, 數學:90, 歷史:94, 健康:76\n",
      "姓名:Student48, 國文:89, 英文:63, 數學:72, 歷史:71, 健康:81\n",
      "姓名:Student49, 國文:81, 英文:78, 數學:80, 歷史:92, 健康:85\n",
      "姓名:Student50, 國文:63, 英文:100, 數學:77, 歷史:91, 健康:78\n"
     ]
    }
   ],
   "source": [
    "# 將 students 清單轉換為字串str\n",
    "students_str = '\\n'.join([\n",
    "    f\"姓名:{student['name']}, \"\n",
    "    f\"國文:{student['chinese']}, \"\n",
    "    f\"英文:{student['english']}, \"\n",
    "    f\"數學:{student['math']}, \"\n",
    "    f\"歷史:{student['history']}, \"\n",
    "    f\"健康:{student['health']}\"\n",
    "    for student in students\n",
    "])\n",
    "\n",
    "print(students_str)"
   ]
  },
  {
   "cell_type": "code",
   "execution_count": 50,
   "metadata": {},
   "outputs": [],
   "source": [
    "print(students_str,file=open('students.txt',mode='w',encoding='utf-8'))"
   ]
  }
 ],
 "metadata": {
  "kernelspec": {
   "display_name": "base",
   "language": "python",
   "name": "python3"
  },
  "language_info": {
   "codemirror_mode": {
    "name": "ipython",
    "version": 3
   },
   "file_extension": ".py",
   "mimetype": "text/x-python",
   "name": "python",
   "nbconvert_exporter": "python",
   "pygments_lexer": "ipython3",
   "version": "3.12.2"
  }
 },
 "nbformat": 4,
 "nbformat_minor": 2
}
