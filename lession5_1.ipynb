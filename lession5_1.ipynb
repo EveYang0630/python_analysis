{
 "cells": [
  {
   "cell_type": "code",
   "execution_count": 2,
   "metadata": {},
   "outputs": [
    {
     "name": "stdout",
     "output_type": "stream",
     "text": [
      "YouBike即時資訊下載完成！\n"
     ]
    }
   ],
   "source": [
    "##用政府資料開放平台的json檔案\n",
    "##使用web API 節點(url)抓取即時資料，以下為AI撰寫的code\n",
    "import requests\n",
    "\n",
    "url='https://tcgbusfs.blob.core.windows.net/dotapp/youbike/v2/youbike_immediate.json'\n",
    "\n",
    "try:\n",
    "    response = requests.get(url)\n",
    "    response.raise_for_status()  # 檢查HTTP狀態碼，確保請求成功\n",
    "\n",
    "    data = response.json()  # 將JSON格式的資料轉換為Python字典in list\n",
    "\n",
    "    print('YouBike即時資訊下載完成！')\n",
    "\n",
    "except requests.exceptions.RequestException as e:\n",
    "    print(f'下載YouBike即時資訊時發生錯誤：{e}')"
   ]
  },
  {
   "cell_type": "code",
   "execution_count": null,
   "metadata": {},
   "outputs": [],
   "source": [
    "for site in data:  #搜尋\n",
    "    if site['available_rent_bikes']==0:  #過濾條件\n",
    "        print(site)  #印出過濾後的站點資料(dict)"
   ]
  },
  {
   "cell_type": "code",
   "execution_count": null,
   "metadata": {},
   "outputs": [],
   "source": [
    "### 用filter(function,iterable)過濾資料，function是自己定義的功能，iterable是可迭代資料(list、taupe、set)\n",
    "def filter_func(n:dict):  #n:dict 是 type hint；filter會將data中的每個值放入參數n\n",
    "    return n['available_rent_bikes']==0  #\n",
    "\n",
    "zero_available_rent_bikes=list(filter(filter_func,data))  #filter出來的type會是filter_class，先轉成list\n",
    "print(len(zero_available_rent_bikes))  #印出過濾後的資料數\n",
    "for site in zero_available_rent_bikes:   #印出過濾後的站名\n",
    "    print(site['sna'])"
   ]
  },
  {
   "cell_type": "code",
   "execution_count": 10,
   "metadata": {},
   "outputs": [
    {
     "name": "stdout",
     "output_type": "stream",
     "text": [
      "25\n",
      "YouBike2.0_溫州公園\n",
      "YouBike2.0_第二學生活動中心\n",
      "YouBike2.0_捷運信義安和站(4號出口)\n",
      "YouBike2.0_安和路二段69巷口\n",
      "YouBike2.0_捷運雙連站(2號出口)\n",
      "YouBike2.0_歸綏戲曲公園\n",
      "YouBike2.0_承德民生西路口\n",
      "YouBike2.0_忠誠路一段173巷口\n",
      "YouBike2.0_捷運古亭站(9號出口)\n",
      "YouBike2.0_莒光和平路口\n",
      "YouBike2.0_羅斯福寧波東街口\n",
      "YouBike2.0_捷運松江南京站(8號出口)\n",
      "YouBike2.0_新生農安街口\n",
      "YouBike2.0_捷運劍南路站(1號出口)\n",
      "YouBike2.0_長春路258巷2弄口\n",
      "YouBike2.0_北安通北街口\n",
      "YouBike2.0_捷運雙連站(1號出口)\n",
      "YouBike2.0_內湖運動中心\n",
      "YouBike2.0_捷運港墘站(1號出口)\n",
      "YouBike2.0_捷運小巨蛋站(2號出口)\n",
      "YouBike2.0_臺北田徑場\n",
      "YouBike2.0_南港路三段290巷口\n",
      "YouBike2.0_光復信義路口東南側\n",
      "YouBike2.0_松智松壽路口\n",
      "YouBike2.0_松勤莊敬路口\n"
     ]
    }
   ],
   "source": [
    "## 練習一個可以還的車數為0的\n",
    "def filter_func(n:dict):\n",
    "    return n[\"available_return_bikes\"]==0\n",
    "\n",
    "zero_available_return_bikes=list(filter(filter_func,data))\n",
    "print(len(zero_available_return_bikes))\n",
    "for site in zero_available_return_bikes:\n",
    "    print(site['sna'])"
   ]
  }
 ],
 "metadata": {
  "kernelspec": {
   "display_name": "base",
   "language": "python",
   "name": "python3"
  },
  "language_info": {
   "codemirror_mode": {
    "name": "ipython",
    "version": 3
   },
   "file_extension": ".py",
   "mimetype": "text/x-python",
   "name": "python",
   "nbconvert_exporter": "python",
   "pygments_lexer": "ipython3",
   "version": "3.12.9"
  }
 },
 "nbformat": 4,
 "nbformat_minor": 2
}
