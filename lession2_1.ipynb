{
 "cells": [
  {
   "cell_type": "code",
   "execution_count": 2,
   "metadata": {},
   "outputs": [
    {
     "name": "stdout",
     "output_type": "stream",
     "text": [
      "20\n",
      "10\n"
     ]
    }
   ],
   "source": [
    "print((3+2)*4)\n",
    "print(2*(1+2)**2-2**2*2)"
   ]
  },
  {
   "cell_type": "markdown",
   "metadata": {},
   "source": [
    "_**My Note Space**_0\n",
    "\n",
    "傳出：例如\"1+2\"、input(prompt)  \n",
    "接收：建立變數  \n",
    "未傳出： =、print  \n",
    "prompt：**參數** prarameter  \n",
    "**引數** argument  "
   ]
  },
  {
   "cell_type": "code",
   "execution_count": 1,
   "metadata": {},
   "outputs": [
    {
     "name": "stdout",
     "output_type": "stream",
     "text": [
      "17\n"
     ]
    }
   ],
   "source": [
    "n=1+5\n",
    "m=n+5\n",
    "print(n+m)"
   ]
  },
  {
   "cell_type": "code",
   "execution_count": 21,
   "metadata": {},
   "outputs": [
    {
     "name": "stdout",
     "output_type": "stream",
     "text": [
      "<class 'str'>\n",
      "<class 'float'>\n",
      "55.0\n"
     ]
    }
   ],
   "source": [
    "x=input('請輸入x的值：')\n",
    "print(type(x))\n",
    "result=float(x)+10\n",
    "print(type(result))\n",
    "print(result)"
   ]
  },
  {
   "cell_type": "code",
   "execution_count": 22,
   "metadata": {},
   "outputs": [
    {
     "name": "stdout",
     "output_type": "stream",
     "text": [
      "1_2_3_lalala  ~ the end\n",
      "1+2+3\n",
      "not never = 6\n",
      "\n",
      "The END, again😎\n"
     ]
    }
   ],
   "source": [
    "print(1,\n",
    "      2,\n",
    "      3,\n",
    "      'lalala',end='  ~ the end\\n',sep='_')\n",
    "print('1+2+3')\n",
    "print('not never = 6')\n",
    "print()\n",
    "print('The END, again😎')"
   ]
  },
  {
   "cell_type": "code",
   "execution_count": 24,
   "metadata": {},
   "outputs": [
    {
     "name": "stdout",
     "output_type": "stream",
     "text": [
      "半徑： 12.0\n",
      "直徑： 24.0\n",
      "圓周長： 75.398223804\n",
      "園面積： 452.389342824\n"
     ]
    }
   ],
   "source": [
    "radius=float(input(\"plz enter a Num for the circle radius：\"))\n",
    "Diameter=2*radius\n",
    "circumference=2*3.1415926585*radius\n",
    "area=3.1415926585*radius**2\n",
    "print('半徑：',radius)\n",
    "print('直徑：',Diameter)\n",
    "print('圓周長：',circumference)\n",
    "print('園面積：',area)"
   ]
  },
  {
   "cell_type": "code",
   "execution_count": 27,
   "metadata": {},
   "outputs": [
    {
     "name": "stdout",
     "output_type": "stream",
     "text": [
      "對邊： 3.0\n",
      "鄰邊： 4.0\n",
      "斜邊： 5.0\n"
     ]
    }
   ],
   "source": [
    "import math\n",
    "sideA=float(input('請輸入對邊：'))\n",
    "sideB=float(input('請輸入鄰邊：'))\n",
    "sideC=math.sqrt(sideA**2+sideB**2)\n",
    "print('對邊：',sideA)\n",
    "print('鄰邊：',sideB)\n",
    "print('斜邊：',sideC)"
   ]
  },
  {
   "cell_type": "code",
   "execution_count": 33,
   "metadata": {},
   "outputs": [
    {
     "name": "stdout",
     "output_type": "stream",
     "text": [
      "數據集： [2, 4, 4, 4, 5, 5, 7, 9]\n",
      "標準差： 2.0\n",
      "樣本標準差： 2.138089935299395\n"
     ]
    }
   ],
   "source": [
    "import numpy as np\n",
    "\n",
    "data=[2,4,4,4,5,5,7,9]\n",
    "std_dev=np.std(data)\n",
    "print('數據集：',data)\n",
    "print('標準差：',std_dev)\n",
    "simple_std=np.std(data,ddof=1)\n",
    "print('樣本標準差：',simple_std)"
   ]
  }
 ],
 "metadata": {
  "kernelspec": {
   "display_name": "base",
   "language": "python",
   "name": "python3"
  },
  "language_info": {
   "codemirror_mode": {
    "name": "ipython",
    "version": 3
   },
   "file_extension": ".py",
   "mimetype": "text/x-python",
   "name": "python",
   "nbconvert_exporter": "python",
   "pygments_lexer": "ipython3",
   "version": "3.12.8"
  }
 },
 "nbformat": 4,
 "nbformat_minor": 2
}
